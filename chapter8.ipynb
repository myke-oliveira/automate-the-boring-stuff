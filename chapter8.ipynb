{
 "cells": [
  {
   "cell_type": "markdown",
   "metadata": {},
   "source": [
    "# Contra-barra no Windows e Barra no Linux e Osx\n",
    "\n",
    "No Windows, endereços de arquivos são escritos usando contra-barras(\\) como o separador entre os nomes de pastas. OS X e Linux, entretanto, usam a barra (/) como separador. Se você quer que seus programas funcionem em todos os sistemas operacionais, você vai ter que escrever seus scripts Python para manipular ambos os casos.\n",
    "\n",
    "Felizmente, é simples fazer isso com a função `os.path.join()`. Se você passar os valores dos nomes individuais de arquivos e pastas para o seu endereço, `os.path.join()` vai retornar a string com o enderepo usando os separadores corretos."
   ]
  },
  {
   "cell_type": "code",
   "execution_count": 1,
   "metadata": {},
   "outputs": [
    {
     "data": {
      "text/plain": [
       "'usr/bin/spam'"
      ]
     },
     "execution_count": 1,
     "metadata": {},
     "output_type": "execute_result"
    }
   ],
   "source": [
    "import os\n",
    "\n",
    "os.path.join('usr', 'bin', 'spam')"
   ]
  },
  {
   "cell_type": "markdown",
   "metadata": {},
   "source": [
    "Resultado no Linux: 'usr/bin/spam'\n",
    "\n",
    "Resultado no Windows: 'usr\\\\bin\\\\spam'\n",
    "\n",
    "(Note que as contra-barras estão dobradas porque a contra-barra é o caracter especial de escape e precisa ser escapada também.)\n",
    "\n",
    "A função `os.path.join()` é util se você precisa criar strings para nomes de arquivos. Essas strings serão passadas para várias funções relacionadas a arquivos introduzidas nesse capítulo. Por exemplo, A seguir a junção de nomes de uma lista de arquivos ao final de um nome de pasta:"
   ]
  },
  {
   "cell_type": "code",
   "execution_count": 2,
   "metadata": {},
   "outputs": [
    {
     "name": "stdout",
     "output_type": "stream",
     "text": [
      "/home/myke/Documents/accounts.txt\n",
      "/home/myke/Documents/details.csv\n",
      "/home/myke/Documents/invite.docx\n"
     ]
    }
   ],
   "source": [
    "myFiles = ['accounts.txt', 'details.csv', 'invite.docx']\n",
    "for filename in myFiles:\n",
    "    print(os.path.join('/home/myke/Documents', filename))\n",
    "    "
   ]
  },
  {
   "cell_type": "markdown",
   "metadata": {},
   "source": [
    "# O Diretório de Trabalho Atual\n",
    "\n",
    "Cada programa que roda no computador tem um _diretório de trabalho atual_, ou _cwd_ (_current working directory_). Qualquer nome de arquivo ou caminho que não começa pelo diretório raíz é assumido estar sob o diretório de trabalho atual. VocPe pode pegar o diretório de trabalho atual como uma string com a função `os.getcmd()` e altera-lo com `os.chdir()`."
   ]
  },
  {
   "cell_type": "code",
   "execution_count": 4,
   "metadata": {},
   "outputs": [
    {
     "name": "stdout",
     "output_type": "stream",
     "text": [
      "/home/myke/Dropbox/invent-with-python/Automate-The-Borring-Stuff\n",
      "/home/myke\n"
     ]
    }
   ],
   "source": [
    "import os\n",
    "\n",
    "print(os.getcwd())\n",
    "os.chdir('/home/myke')\n",
    "print(os.getcwd())"
   ]
  },
  {
   "cell_type": "markdown",
   "metadata": {},
   "source": [
    "O Python vai apresentar um erro se você tentar mudar para um diretório que não existe."
   ]
  },
  {
   "cell_type": "code",
   "execution_count": 5,
   "metadata": {},
   "outputs": [
    {
     "ename": "FileNotFoundError",
     "evalue": "[Errno 2] No such file or directory: '/ThisFolderDoesNotExist'",
     "output_type": "error",
     "traceback": [
      "\u001b[0;31m---------------------------------------------------------------------------\u001b[0m",
      "\u001b[0;31mFileNotFoundError\u001b[0m                         Traceback (most recent call last)",
      "\u001b[0;32m<ipython-input-5-269f565bec6a>\u001b[0m in \u001b[0;36m<module>\u001b[0;34m\u001b[0m\n\u001b[0;32m----> 1\u001b[0;31m \u001b[0mos\u001b[0m\u001b[0;34m.\u001b[0m\u001b[0mchdir\u001b[0m\u001b[0;34m(\u001b[0m\u001b[0;34m'/ThisFolderDoesNotExist'\u001b[0m\u001b[0;34m)\u001b[0m\u001b[0;34m\u001b[0m\u001b[0;34m\u001b[0m\u001b[0m\n\u001b[0m",
      "\u001b[0;31mFileNotFoundError\u001b[0m: [Errno 2] No such file or directory: '/ThisFolderDoesNotExist'"
     ]
    }
   ],
   "source": [
    "os.chdir('/ThisFolderDoesNotExist')"
   ]
  },
  {
   "cell_type": "markdown",
   "metadata": {},
   "source": [
    "# Caminhos Absolutos vs. Relativos\n",
    "\n",
    "Há duas maneiras de especificar o caminho para um arquivo.\n",
    "\n",
    " * Um caminho absoluto, que sempre inicia no diretório raiz.\n",
    " \n",
    " * Um caminho relativo, que é relativo ao diretório de trabalho atual do programa.\n",
    " \n",
    "Há também as pastas _ponto_ (.) e _ponto-ponto_ (..). Estas não são pastas reais mas nomes especiais que podem ser usados no caminho. Um punico ponto para un nome de diretório é um atalho para \"este diretório\". Dois pontos significa \"diretório pai\".\n",
    "\n",
    "# Criando Novas Pasdas com `os.makedirs()`\n",
    "\n",
    "Seus programas podem criar novas pastas (diretórios) com a `os.makedirs()`."
   ]
  },
  {
   "cell_type": "code",
   "execution_count": 6,
   "metadata": {},
   "outputs": [],
   "source": [
    "import os\n",
    "\n",
    "os.makedirs('/home/myke/walnut/waffes')"
   ]
  },
  {
   "cell_type": "markdown",
   "metadata": {},
   "source": [
    "# Manobrando Caminhos Absolutos e Relativos\n",
    "\n",
    "O módulo `os.path` fornece funções para retornar o caminho absuloto e relativo e checar se um caminho dado é absuloto.\n",
    "\n",
    " * Chamar `os.path.abspath(path)` retornará uma string do caminho absoluto do argumento. Está é uma maneira fácil de converter um caminho relativo em absoluto.\n",
    " \n",
    " * Chamar `os.path.isabs(path)` retornará `True`se o argumento é um caminho absuluto e `False` se é um caminho relativo.\n",
    " \n",
    " * Chamar `os.path.relpath(path, start)` retornará uma string de u caminho relativo do caminho de `start`até `path`. Se `start`não for passado, o diretório de trabalho atula será usado como caminho de referência."
   ]
  },
  {
   "cell_type": "code",
   "execution_count": 7,
   "metadata": {},
   "outputs": [
    {
     "data": {
      "text/plain": [
       "'/home/myke'"
      ]
     },
     "execution_count": 7,
     "metadata": {},
     "output_type": "execute_result"
    }
   ],
   "source": [
    "os.path.abspath('.')"
   ]
  },
  {
   "cell_type": "code",
   "execution_count": 9,
   "metadata": {},
   "outputs": [
    {
     "data": {
      "text/plain": [
       "'/home/myke/Documents'"
      ]
     },
     "execution_count": 9,
     "metadata": {},
     "output_type": "execute_result"
    }
   ],
   "source": [
    "os.path.abspath('./Documents')"
   ]
  },
  {
   "cell_type": "code",
   "execution_count": 10,
   "metadata": {},
   "outputs": [
    {
     "data": {
      "text/plain": [
       "False"
      ]
     },
     "execution_count": 10,
     "metadata": {},
     "output_type": "execute_result"
    }
   ],
   "source": [
    "os.path.isabs('.')"
   ]
  },
  {
   "cell_type": "code",
   "execution_count": 11,
   "metadata": {},
   "outputs": [
    {
     "data": {
      "text/plain": [
       "True"
      ]
     },
     "execution_count": 11,
     "metadata": {},
     "output_type": "execute_result"
    }
   ],
   "source": [
    "os.path.isabs(os.path.abspath('.'))"
   ]
  },
  {
   "cell_type": "code",
   "execution_count": 12,
   "metadata": {},
   "outputs": [
    {
     "data": {
      "text/plain": [
       "'.'"
      ]
     },
     "execution_count": 12,
     "metadata": {},
     "output_type": "execute_result"
    }
   ],
   "source": [
    "os.path.relpath('/home/myke')"
   ]
  },
  {
   "cell_type": "code",
   "execution_count": 13,
   "metadata": {},
   "outputs": [
    {
     "data": {
      "text/plain": [
       "'..'"
      ]
     },
     "execution_count": 13,
     "metadata": {},
     "output_type": "execute_result"
    }
   ],
   "source": [
    "os.path.relpath('/home/')"
   ]
  },
  {
   "cell_type": "code",
   "execution_count": 14,
   "metadata": {},
   "outputs": [
    {
     "data": {
      "text/plain": [
       "'../../etc'"
      ]
     },
     "execution_count": 14,
     "metadata": {},
     "output_type": "execute_result"
    }
   ],
   "source": [
    "os.path.relpath('/etc')"
   ]
  },
  {
   "cell_type": "code",
   "execution_count": 15,
   "metadata": {},
   "outputs": [
    {
     "data": {
      "text/plain": [
       "'file.txt'"
      ]
     },
     "execution_count": 15,
     "metadata": {},
     "output_type": "execute_result"
    }
   ],
   "source": [
    "path = '/home/myke/Documents/file.txt'\n",
    "os.path.basename(path)"
   ]
  },
  {
   "cell_type": "code",
   "execution_count": 16,
   "metadata": {},
   "outputs": [
    {
     "data": {
      "text/plain": [
       "'/home/myke/Documents'"
      ]
     },
     "execution_count": 16,
     "metadata": {},
     "output_type": "execute_result"
    }
   ],
   "source": [
    "os.path.dirname(path)"
   ]
  },
  {
   "cell_type": "markdown",
   "metadata": {},
   "source": [
    "Se você precisar do nome do diretório e do nome base juntos, você pode chamar `os.path.split()` para obter a tupla de valores com essas duas strings:"
   ]
  },
  {
   "cell_type": "code",
   "execution_count": 17,
   "metadata": {},
   "outputs": [
    {
     "data": {
      "text/plain": [
       "('/home/myke/Documents', 'file.txt')"
      ]
     },
     "execution_count": 17,
     "metadata": {},
     "output_type": "execute_result"
    }
   ],
   "source": [
    "os.path.split(path)"
   ]
  },
  {
   "cell_type": "markdown",
   "metadata": {},
   "source": [
    "A variável `os.path.sep` representa o separador de diretório do sistema operacional atual."
   ]
  },
  {
   "cell_type": "code",
   "execution_count": 18,
   "metadata": {},
   "outputs": [
    {
     "data": {
      "text/plain": [
       "'/'"
      ]
     },
     "execution_count": 18,
     "metadata": {},
     "output_type": "execute_result"
    }
   ],
   "source": [
    "os.path.sep"
   ]
  },
  {
   "cell_type": "markdown",
   "metadata": {},
   "source": [
    "Você pode separar um caminho em uma lista de pastas usando `os.path.sep` como argumento do método `split()`."
   ]
  },
  {
   "cell_type": "code",
   "execution_count": 19,
   "metadata": {},
   "outputs": [
    {
     "data": {
      "text/plain": [
       "['', 'home', 'myke', 'Documents', 'file.txt']"
      ]
     },
     "execution_count": 19,
     "metadata": {},
     "output_type": "execute_result"
    }
   ],
   "source": [
    "path.split(os.path.sep)"
   ]
  },
  {
   "cell_type": "markdown",
   "metadata": {},
   "source": [
    "# Encontrando Tamanhos de Arquivos e Conteúdos de Pastas\n",
    "\n",
    "Uma vez que você tem meios de manipular caminhos de arquivos, você pode começar a obeter informação sobre arquivos e pastas específicos. O módulo `os.path` fornece funções para encontrar o tamanho de um arquivo e de pastas dentro de uma data pasta.\n",
    "\n",
    " * Chamar `os.path.getsize(path)` retornará o tamanho em bytes do arquivo no argumento (path)\n",
    " \n",
    " * Chamar `os.listdir(path)` retornará uma lista de strings de nomes de arquivos para cada arquivo no argumento path.\n"
   ]
  },
  {
   "cell_type": "code",
   "execution_count": 20,
   "metadata": {},
   "outputs": [
    {
     "data": {
      "text/plain": [
       "3238368"
      ]
     },
     "execution_count": 20,
     "metadata": {},
     "output_type": "execute_result"
    }
   ],
   "source": [
    "path = '/home/myke/Documents/ebooks'\n",
    "os.path.getsize(os.path.join(path, 'GuiadeNutricao.pdf'))"
   ]
  },
  {
   "cell_type": "code",
   "execution_count": 21,
   "metadata": {},
   "outputs": [
    {
     "data": {
      "text/plain": [
       "['GuiadeNutricao.pdf',\n",
       " 'Learning JavaScript ( PDFDrive.com ).pdf',\n",
       " 'MDN_0214DG.pdf',\n",
       " 'interesse em adiquirir',\n",
       " 'Learning JavaScript Design Patterns ( PDFDrive.com ).pdf',\n",
       " 'MonteSeuPlanoNutricional.pdf',\n",
       " 'Fluent Python ( PDFDrive.com ).pdf',\n",
       " 'Curso de Análise ( PDFDrive.com ).pdf',\n",
       " 'Eletronica_2018_Gabriel_Torres.pdf',\n",
       " 'Análise Real. Vol.1_ Funções de Uma Variável ( PDFDrive.com ).pdf',\n",
       " 'How to Solve It_ A New Aspect of Mathematical Method ( PDFDrive.com ).pdf',\n",
       " 'One Two Three... Infinty. Facts & Speculations in Science ( PDFDrive.com ).pdf',\n",
       " 'Coordenadas no plano _ geometria analitica, vetores e transformações geometricas ( PDFDrive.com ).pdf',\n",
       " 'Redes_de_Computadores_2018_Gabriel_Torres.pdf',\n",
       " 'AbdomenTrincado.pdf']"
      ]
     },
     "execution_count": 21,
     "metadata": {},
     "output_type": "execute_result"
    }
   ],
   "source": [
    "os.listdir(path)"
   ]
  },
  {
   "cell_type": "code",
   "execution_count": 39,
   "metadata": {},
   "outputs": [
    {
     "name": "stdout",
     "output_type": "stream",
     "text": [
      "Nome: ................................................................................................... | Tamanho: ..........|\n",
      "----------------------------------------------------------------------------------------------------------|--------------------|\n",
      "                                                                                       GuiadeNutricao.pdf |             3238368|\n",
      "                                                                 Learning JavaScript ( PDFDrive.com ).pdf |             5785005|\n",
      "                                                                                           MDN_0214DG.pdf |            22254333|\n",
      "                                                                                   interesse em adiquirir |                4096|\n",
      "                                                 Learning JavaScript Design Patterns ( PDFDrive.com ).pdf |             7468072|\n",
      "                                                                             MonteSeuPlanoNutricional.pdf |              584550|\n",
      "                                                                       Fluent Python ( PDFDrive.com ).pdf |            12446380|\n",
      "                                                                    Curso de Análise ( PDFDrive.com ).pdf |            38006100|\n",
      "                                                                       Eletronica_2018_Gabriel_Torres.pdf |            68010902|\n",
      "                                        Análise Real. Vol.1_ Funções de Uma Variável ( PDFDrive.com ).pdf |            46968918|\n",
      "                                How to Solve It_ A New Aspect of Mathematical Method ( PDFDrive.com ).pdf |             2147126|\n",
      "                           One Two Three... Infinty. Facts & Speculations in Science ( PDFDrive.com ).pdf |            15025013|\n",
      "  Coordenadas no plano _ geometria analitica, vetores e transformações geometricas ( PDFDrive.com ).pdf |            11480275|\n",
      "                                                            Redes_de_Computadores_2018_Gabriel_Torres.pdf |           144095782|\n",
      "                                                                                      AbdomenTrincado.pdf |              438161|\n"
     ]
    }
   ],
   "source": [
    "print('Nome: ................................................................................................... | Tamanho: ..........|')\n",
    "print('----------------------------------------------------------------------------------------------------------|--------------------|')\n",
    "for filename in os.listdir(path):\n",
    "    print(f'{filename:>105} |{os.path.getsize(os.path.join(path, filename)):>20}|')"
   ]
  },
  {
   "cell_type": "markdown",
   "metadata": {},
   "source": [
    "# Verificar a validade do caminho\n",
    "\n",
    "Muitas funções Python vão quebrar com um erro se você fornece-las um caminho que não existe. O módulo `os.path` fornece funções para verificar se um caminho dado existe, seja ele um arquivo ou uma pasta.\n",
    "\n",
    " * Chamar `os.path.exists(path)` vai retornar `True`se o arquivo ou pasta referênciado existir, e vai retornar `False`se o caminho não existir.\n",
    " \n",
    " * Chamar `os.path.isfile(path)` vai retornar `True`se o caminho argumento existir e for um arquivo, e vai retornar `False` caso contrário.\n",
    " \n",
    " * Chamar `os.path.isdir(path)` vai retornar `True` se o caminho argumeto existir e for uma pasta e va retornar `False` caso contrário."
   ]
  },
  {
   "cell_type": "code",
   "execution_count": 40,
   "metadata": {},
   "outputs": [
    {
     "data": {
      "text/plain": [
       "True"
      ]
     },
     "execution_count": 40,
     "metadata": {},
     "output_type": "execute_result"
    }
   ],
   "source": [
    "os.path.exists('/home')"
   ]
  },
  {
   "cell_type": "code",
   "execution_count": 41,
   "metadata": {},
   "outputs": [
    {
     "data": {
      "text/plain": [
       "False"
      ]
     },
     "execution_count": 41,
     "metadata": {},
     "output_type": "execute_result"
    }
   ],
   "source": [
    "os.path.exists('/PastaQueNãoExiste')"
   ]
  },
  {
   "cell_type": "code",
   "execution_count": 42,
   "metadata": {},
   "outputs": [
    {
     "data": {
      "text/plain": [
       "True"
      ]
     },
     "execution_count": 42,
     "metadata": {},
     "output_type": "execute_result"
    }
   ],
   "source": [
    "os.path.isdir('/home')"
   ]
  },
  {
   "cell_type": "code",
   "execution_count": 43,
   "metadata": {},
   "outputs": [
    {
     "data": {
      "text/plain": [
       "False"
      ]
     },
     "execution_count": 43,
     "metadata": {},
     "output_type": "execute_result"
    }
   ],
   "source": [
    "os.path.isdir('/PastaQueNãoExiste')"
   ]
  },
  {
   "cell_type": "code",
   "execution_count": 47,
   "metadata": {},
   "outputs": [
    {
     "data": {
      "text/plain": [
       "False"
      ]
     },
     "execution_count": 47,
     "metadata": {},
     "output_type": "execute_result"
    }
   ],
   "source": [
    "os.path.isdir('/home/myke/Documents/ebooks/GuiadeNutricao.pdf')"
   ]
  },
  {
   "cell_type": "code",
   "execution_count": 48,
   "metadata": {},
   "outputs": [
    {
     "data": {
      "text/plain": [
       "True"
      ]
     },
     "execution_count": 48,
     "metadata": {},
     "output_type": "execute_result"
    }
   ],
   "source": [
    "os.path.isfile('/home/myke/Documents/ebooks/GuiadeNutricao.pdf')"
   ]
  },
  {
   "cell_type": "code",
   "execution_count": 49,
   "metadata": {},
   "outputs": [
    {
     "data": {
      "text/plain": [
       "False"
      ]
     },
     "execution_count": 49,
     "metadata": {},
     "output_type": "execute_result"
    }
   ],
   "source": [
    "os.path.isfile('/home/myke/Documents/ebooks/ArquivoQueNãoExiste.pdf')"
   ]
  },
  {
   "cell_type": "code",
   "execution_count": 50,
   "metadata": {},
   "outputs": [
    {
     "data": {
      "text/plain": [
       "False"
      ]
     },
     "execution_count": 50,
     "metadata": {},
     "output_type": "execute_result"
    }
   ],
   "source": [
    "os.path.isfile('/home/myke/Documents/ebooks')"
   ]
  },
  {
   "cell_type": "markdown",
   "metadata": {},
   "source": [
    "# Processo de Leitura/Escrita de Arquivo\n",
    "\n",
    "Uma vez que você está confortável com pastas e caminhos relativos, você será capas de especificar a localização de arquivos para ler e escrever. As funções cobertas nas próximas seções serão aplicaveis a arquivos de texto planos. Arquivos de texto planos contem somente caracteres de texto básicos e não incluem informação de fonte, tamanho e cor. Os arquivos de textos com exteção `.txt` ou arquivos de scripts Python `.py` são exemplos de arquivos de texto plano. Estes arquivos podem ser abertos com o Bloco de Notas do Windows ou o Editor de Textos do OS X. Seus programas podem facilmente ler o conteúdo de arquivos de textos planos e trata-los como um valor-string ordinário.\n",
    "\n",
    "_Arquivos Binários_ são todos os outros tipos, tal como documentos de processadores de textos, PDFs, imagens, planilhas, programas executáveis.\n",
    "\n",
    "São três passos para ler ou escrever arquivos em Python.\n",
    "\n",
    "1. Chamar a função `open()` para retornar um objeto `File`.\n",
    "\n",
    " * Chamar o método `read()` ou `write()` no objeto `File`.\n",
    " \n",
    " * Fechar o arquivo pelo chamado do método `close()` no objeto `File`.\n",
    "\n",
    "## Abrindo arquivos com a função `open()`\n",
    "\n",
    "Para abrir um arquivo com a função `open()`, você a passa a string indicando o caminho do arquivo que você quer abrir, isso pose ser tanto absoluto como relativo. A função `open()` retorna um objeto `File`.\n",
    "\n",
    "Tente isso pela criação de um arquivo _hello.txt_ usando o Bloco de Notas ou Editor de Textos, Escreva *Olá Mundo!* como conteúdo deste arquivo e salve-o. Então entre o seguinte comando no shell:"
   ]
  },
  {
   "cell_type": "code",
   "execution_count": 1,
   "metadata": {},
   "outputs": [],
   "source": [
    "helloFile = open('hello.txt')"
   ]
  },
  {
   "cell_type": "markdown",
   "metadata": {},
   "source": [
    "Esté comando abrirá o arquivo no modo \"lendo texto plano\", ou modo leitura. Quando um arquivo é aberto no modo leitura, Python te permite apenas ler dados do arquivo; você não poede escrever ou modifica-lo de nenhuma forma. O modo leitura é o modo padrão para arquivos que você abre em Python. Mas se você não quer especificar o modo como o Python abre o arquivo explicitamente, você pode passar a string 'r' como um segundo argumento para `open()`. Então `open(path, 'r')` e `open(path)` fazem a mesma coisa.\n",
    "\n",
    "## Lendo o conteúdo de arquivos\n",
    "\n",
    "Agora que você tem o objeto `File`, você pode começar a le-lo. Se você quer ler o conteúdo inteiro de um arquivo como uma String, use o método `read()` do objeto `File`. Vamos continuar com o arquivo `hello.txt` armazenado em `helloFile`. Entre o seguinte comando no shell interativo:"
   ]
  },
  {
   "cell_type": "code",
   "execution_count": 2,
   "metadata": {},
   "outputs": [
    {
     "data": {
      "text/plain": [
       "'Esse é o conteúdo\\ndo arquivo\\nhello.txt'"
      ]
     },
     "execution_count": 2,
     "metadata": {},
     "output_type": "execute_result"
    }
   ],
   "source": [
    "helloContent = helloFile.read()\n",
    "helloContent"
   ]
  },
  {
   "cell_type": "markdown",
   "metadata": {},
   "source": [
    "Se você pretende usar o conteúdo de um arquivo como uma única grande string, o método `read()` retorna a string armazenada no arquivo.\n",
    "\n",
    "Alternativamente, você pode usar o método `readlines()` para obter uma lista de strings dos do arquivo, uma string para cada linha de texto. Por exemplo:"
   ]
  },
  {
   "cell_type": "code",
   "execution_count": 5,
   "metadata": {},
   "outputs": [
    {
     "data": {
      "text/plain": [
       "[\"When, in disgrace with fortune and men's eyes,\\n\",\n",
       " 'I all alone beweep my outcast state,\\n',\n",
       " 'And trouble deaf heaven with my bootless cries,\\n',\n",
       " 'And look upon myself and curse my fate,']"
      ]
     },
     "execution_count": 5,
     "metadata": {},
     "output_type": "execute_result"
    }
   ],
   "source": [
    "sonnetFile = open('sonnet29.txt')\n",
    "sonnetFile.readlines()"
   ]
  },
  {
   "cell_type": "markdown",
   "metadata": {},
   "source": [
    "# Escrevendo em Arquivos\n",
    "\n",
    "O Python te permite escrever conteúdos em um arquivo de uma maneira similar ao modo como a função `print()` escreve strings na tela. Você não pode "
   ]
  },
  {
   "cell_type": "code",
   "execution_count": 7,
   "metadata": {},
   "outputs": [
    {
     "data": {
      "text/plain": [
       "11"
      ]
     },
     "execution_count": 7,
     "metadata": {},
     "output_type": "execute_result"
    }
   ],
   "source": [
    "baconFile = open('bacon.txt', 'w')\n",
    "baconFile.write('Olá Mundo!\\n')\n"
   ]
  },
  {
   "cell_type": "code",
   "execution_count": 10,
   "metadata": {},
   "outputs": [
    {
     "data": {
      "text/plain": [
       "22"
      ]
     },
     "execution_count": 10,
     "metadata": {},
     "output_type": "execute_result"
    }
   ],
   "source": [
    "baconFile.close()\n",
    "baconFile = open('bacon.txt','a')\n",
    "baconFile.write('Bacon não é um legume.')"
   ]
  },
  {
   "cell_type": "code",
   "execution_count": 12,
   "metadata": {},
   "outputs": [
    {
     "name": "stdout",
     "output_type": "stream",
     "text": [
      "Olá Mundo!\n",
      "Bacon não é um legume.\n"
     ]
    }
   ],
   "source": [
    "baconFile.close()\n",
    "baconFile = open('bacon.txt')\n",
    "content = baconFile.read()\n",
    "baconFile.close()\n",
    "print(content)"
   ]
  },
  {
   "cell_type": "markdown",
   "metadata": {},
   "source": [
    "# Salvando Variáveis como o Módulo `shelve`\n",
    "\n",
    "Você pode salvar variáveis em seus programas Python em arquivos binários estantes, usando o módulo `shelve`."
   ]
  },
  {
   "cell_type": "code",
   "execution_count": 2,
   "metadata": {},
   "outputs": [],
   "source": [
    "import shelve\n",
    "shelfFile = shelve.open('mydata')\n",
    "gatos = ['Rodolfo', 'Murilo', 'Albertina']\n",
    "shelfFile['gatos'] = gatos\n",
    "shelfFile.close()"
   ]
  },
  {
   "cell_type": "markdown",
   "metadata": {},
   "source": [
    "# Recuperando os Dados Salvos com `shelve`"
   ]
  },
  {
   "cell_type": "code",
   "execution_count": 3,
   "metadata": {},
   "outputs": [
    {
     "data": {
      "text/plain": [
       "shelve.DbfilenameShelf"
      ]
     },
     "execution_count": 3,
     "metadata": {},
     "output_type": "execute_result"
    }
   ],
   "source": [
    "shelfFile = shelve.open('mydata')\n",
    "type(shelfFile)"
   ]
  },
  {
   "cell_type": "code",
   "execution_count": 4,
   "metadata": {},
   "outputs": [
    {
     "data": {
      "text/plain": [
       "['Rodolfo', 'Murilo', 'Albertina']"
      ]
     },
     "execution_count": 4,
     "metadata": {},
     "output_type": "execute_result"
    }
   ],
   "source": [
    "shelfFile['gatos']"
   ]
  },
  {
   "cell_type": "markdown",
   "metadata": {},
   "source": [
    "# Salvando variáveis com a função `pprint.pformat()`"
   ]
  },
  {
   "cell_type": "code",
   "execution_count": 5,
   "metadata": {},
   "outputs": [
    {
     "data": {
      "text/plain": [
       "\"[{'desc': 'Gordinho', 'name': 'Rodolfo'},\\n {'desc': 'Peludinha', 'name': 'Poliana'}]\""
      ]
     },
     "execution_count": 5,
     "metadata": {},
     "output_type": "execute_result"
    }
   ],
   "source": [
    "import pprint\n",
    "cats = [{'name': 'Rodolfo', 'desc': 'Gordinho'},\n",
    "       {'name': 'Poliana', 'desc': 'Peludinha'}]\n",
    "pprint.pformat(cats)"
   ]
  },
  {
   "cell_type": "code",
   "execution_count": 6,
   "metadata": {},
   "outputs": [],
   "source": [
    "with open('myCats.py', 'w') as file:\n",
    "    file.write('Cats = '+ pprint.pformat(cats) + '\\n')"
   ]
  }
 ],
 "metadata": {
  "kernelspec": {
   "display_name": "Python 3",
   "language": "python",
   "name": "python3"
  },
  "language_info": {
   "codemirror_mode": {
    "name": "ipython",
    "version": 3
   },
   "file_extension": ".py",
   "mimetype": "text/x-python",
   "name": "python",
   "nbconvert_exporter": "python",
   "pygments_lexer": "ipython3",
   "version": "3.7.3"
  }
 },
 "nbformat": 4,
 "nbformat_minor": 2
}
