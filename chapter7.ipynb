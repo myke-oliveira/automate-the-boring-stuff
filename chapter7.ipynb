{
 "cells": [
  {
   "cell_type": "markdown",
   "metadata": {},
   "source": [
    "# Criando Objetos Regex\n",
    "\n",
    "Todas as funções _regex_ em Python estão no módulo `re`. Entre os seguintes código para importar este módulo"
   ]
  },
  {
   "cell_type": "code",
   "execution_count": 2,
   "metadata": {},
   "outputs": [],
   "source": [
    "import re"
   ]
  },
  {
   "cell_type": "markdown",
   "metadata": {},
   "source": [
    "Passar um valor de string representando uma expressão regular para `re.compile()` retorna um objeto padrão de _regex_ (ou simplismente, um objeto _regex_)."
   ]
  },
  {
   "cell_type": "code",
   "execution_count": 14,
   "metadata": {},
   "outputs": [],
   "source": [
    "phoneNumRegex = re.compile(r'\\d\\d \\d\\d\\d\\d-\\d\\d\\d\\d')"
   ]
  },
  {
   "cell_type": "markdown",
   "metadata": {},
   "source": [
    "Desde que expressões regulares frequentemente usam contra-barra, é muito conveniente passar uma string bruta para a função `re.compile()` ao invés de escrever contra-barras extras."
   ]
  },
  {
   "cell_type": "markdown",
   "metadata": {},
   "source": [
    "# Combinando Objetos Regex"
   ]
  },
  {
   "cell_type": "code",
   "execution_count": 15,
   "metadata": {},
   "outputs": [
    {
     "name": "stdout",
     "output_type": "stream",
     "text": [
      "Número de telefone encontrado: 13 8804-7676\n"
     ]
    }
   ],
   "source": [
    "mo = phoneNumRegex.search('Meu número de telefone é 13 8804-7676.')\n",
    "print(f'Número de telefone encontrado: {mo.group()}')"
   ]
  },
  {
   "cell_type": "markdown",
   "metadata": {},
   "source": [
    "# Agrupamento com Parenteses\n",
    "\n",
    "Adicionando parentes na _regex_ criará grupos. Então vocPe pode usar o método `group()` do objeto _macth_ para pegar os textos compatives com apenas um grupo."
   ]
  },
  {
   "cell_type": "code",
   "execution_count": 18,
   "metadata": {},
   "outputs": [
    {
     "name": "stdout",
     "output_type": "stream",
     "text": [
      "13\n",
      "8804-7676\n",
      "13 8804-7676\n",
      "13 8804-7676\n"
     ]
    }
   ],
   "source": [
    "phoneNumRegex = re.compile(r'(\\d\\d) (\\d\\d\\d\\d-\\d\\d\\d\\d)')\n",
    "mo = phoneNumRegex.search('Meu número de telefone é 13 8804-7676.')\n",
    "print(mo.group(1))\n",
    "print(mo.group(2))\n",
    "print(mo.group(0))\n",
    "print(mo.group())"
   ]
  },
  {
   "cell_type": "markdown",
   "metadata": {},
   "source": [
    "Se você quiser recuperar todos os grupos de uma vez, use o método `groups()` - note a forma plural para o nome."
   ]
  },
  {
   "cell_type": "code",
   "execution_count": 19,
   "metadata": {},
   "outputs": [
    {
     "data": {
      "text/plain": [
       "('13', '8804-7676')"
      ]
     },
     "execution_count": 19,
     "metadata": {},
     "output_type": "execute_result"
    }
   ],
   "source": [
    "mo.groups()"
   ]
  },
  {
   "cell_type": "code",
   "execution_count": 20,
   "metadata": {},
   "outputs": [
    {
     "name": "stdout",
     "output_type": "stream",
     "text": [
      "13\n",
      "8804-7676\n"
     ]
    }
   ],
   "source": [
    "codigoArea, numeroPrincipal = mo.groups()\n",
    "print(codigoArea)\n",
    "print(numeroPrincipal)"
   ]
  },
  {
   "cell_type": "markdown",
   "metadata": {},
   "source": [
    "Parenteses tem um significado especial em expressões regulares, mas o que você faz se você precisa encontrar a correspondência de um parenteses em seu texto? Por exemplo, pode ser que os telefones que você está tentando encontrar tenham o código de área entre parenteses. Nesse caso vocPe pode escabar o ( e ) com uma contra-barra."
   ]
  },
  {
   "cell_type": "code",
   "execution_count": 21,
   "metadata": {},
   "outputs": [
    {
     "name": "stdout",
     "output_type": "stream",
     "text": [
      "13\n",
      "8804-7676\n"
     ]
    }
   ],
   "source": [
    "phoneNumRegex = re.compile(r'\\((\\d\\d)\\) (\\d\\d\\d\\d-\\d\\d\\d\\d)')\n",
    "mo = phoneNumRegex.search('Meu número de telefone é (13) 8804-7676.')\n",
    "print(mo.group(1))\n",
    "print(mo.group(2))"
   ]
  },
  {
   "cell_type": "markdown",
   "metadata": {},
   "source": [
    "# Correspondendo multiplos grupos com o Pipe\n",
    "\n",
    "O caracter | é chamado de _pipe_. Voce pode usa-lo em qualquer lugar que você quer encontrar a correspondência de uma ou mais expressões. Por exemplo, a expressão regular r'Batman|Tinha Frey' correspoderá a ambos 'Batman' ou 'Tina Frey'."
   ]
  },
  {
   "cell_type": "code",
   "execution_count": 22,
   "metadata": {},
   "outputs": [
    {
     "data": {
      "text/plain": [
       "'Batman'"
      ]
     },
     "execution_count": 22,
     "metadata": {},
     "output_type": "execute_result"
    }
   ],
   "source": [
    "heroRegex = re.compile(r'Batman|Tina Frey')\n",
    "mo1 = heroRegex.search('Batman e Tina Frey')\n",
    "mo1.group()"
   ]
  },
  {
   "cell_type": "code",
   "execution_count": 23,
   "metadata": {},
   "outputs": [
    {
     "data": {
      "text/plain": [
       "'Tina Frey'"
      ]
     },
     "execution_count": 23,
     "metadata": {},
     "output_type": "execute_result"
    }
   ],
   "source": [
    "mo2 = heroRegex.search('Tina Frey e Batman')\n",
    "mo2.group()"
   ]
  },
  {
   "cell_type": "markdown",
   "metadata": {},
   "source": [
    "## Nota\n",
    "\n",
    "Você pode encontrar todas as correspodências com o método `findall()`"
   ]
  },
  {
   "cell_type": "code",
   "execution_count": 24,
   "metadata": {},
   "outputs": [
    {
     "data": {
      "text/plain": [
       "['Batman', 'Tina Frey']"
      ]
     },
     "execution_count": 24,
     "metadata": {},
     "output_type": "execute_result"
    }
   ],
   "source": [
    "heroRegex.findall('Batman e Tina Frey')"
   ]
  },
  {
   "cell_type": "markdown",
   "metadata": {},
   "source": [
    "# Correspondência Opcional com Pontos de Interrogação\n",
    "\n",
    "Algumas vezes há um padrão que você quer corresponder apenas opicionalmente."
   ]
  },
  {
   "cell_type": "code",
   "execution_count": 27,
   "metadata": {},
   "outputs": [
    {
     "data": {
      "text/plain": [
       "'Batman'"
      ]
     },
     "execution_count": 27,
     "metadata": {},
     "output_type": "execute_result"
    }
   ],
   "source": [
    "batRegex = re.compile(r'Bat(wo)?man')\n",
    "mo1 = batRegex.search('As Aventuras de Batman')\n",
    "mo1.group()"
   ]
  },
  {
   "cell_type": "code",
   "execution_count": 29,
   "metadata": {},
   "outputs": [
    {
     "data": {
      "text/plain": [
       "'Batwoman'"
      ]
     },
     "execution_count": 29,
     "metadata": {},
     "output_type": "execute_result"
    }
   ],
   "source": [
    "mo2 = batRegex.search('As Aventuras de Batwoman.')\n",
    "mo2.group()"
   ]
  },
  {
   "cell_type": "markdown",
   "metadata": {},
   "source": [
    "Usando o exemplo anterior, você pode fazer um _regex_ procurar por números de telefone que têm ou não um código de área."
   ]
  },
  {
   "cell_type": "code",
   "execution_count": 31,
   "metadata": {},
   "outputs": [
    {
     "data": {
      "text/plain": [
       "'8804-7676'"
      ]
     },
     "execution_count": 31,
     "metadata": {},
     "output_type": "execute_result"
    }
   ],
   "source": [
    "phoneRegex = re.compile(r'(\\((\\d\\d)\\) )?\\d\\d\\d\\d-\\d\\d\\d\\d')\n",
    "mo1 = phoneRegex.search('Meu número de telefone é 8804-7676.')\n",
    "mo1.group()"
   ]
  },
  {
   "cell_type": "code",
   "execution_count": 32,
   "metadata": {},
   "outputs": [
    {
     "data": {
      "text/plain": [
       "'(13) 8804-7676'"
      ]
     },
     "execution_count": 32,
     "metadata": {},
     "output_type": "execute_result"
    }
   ],
   "source": [
    "mo2 = phoneRegex.search('Meu número de telefone é (13) 8804-7676.')\n",
    "mo2.group()"
   ]
  },
  {
   "cell_type": "markdown",
   "metadata": {},
   "source": [
    "# Correspondêndo Zero ou Mais vezes com o Asterísco."
   ]
  },
  {
   "cell_type": "code",
   "execution_count": 34,
   "metadata": {},
   "outputs": [
    {
     "data": {
      "text/plain": [
       "'Batman'"
      ]
     },
     "execution_count": 34,
     "metadata": {},
     "output_type": "execute_result"
    }
   ],
   "source": [
    "batRegex = re.compile(r'Bat(wo)*man')\n",
    "mo1 = batRegex.search('As Aventuras de Batman')\n",
    "mo1.group()"
   ]
  },
  {
   "cell_type": "code",
   "execution_count": 35,
   "metadata": {},
   "outputs": [
    {
     "data": {
      "text/plain": [
       "'Batwoman'"
      ]
     },
     "execution_count": 35,
     "metadata": {},
     "output_type": "execute_result"
    }
   ],
   "source": [
    "mo2 = batRegex.search('As Aventuras de Batwoman')\n",
    "mo2.group()"
   ]
  },
  {
   "cell_type": "code",
   "execution_count": 36,
   "metadata": {},
   "outputs": [
    {
     "data": {
      "text/plain": [
       "'Batwowowoman'"
      ]
     },
     "execution_count": 36,
     "metadata": {},
     "output_type": "execute_result"
    }
   ],
   "source": [
    "mo3 = batRegex.search('As Aventuras de Batwowowoman')\n",
    "mo3.group()"
   ]
  },
  {
   "cell_type": "markdown",
   "metadata": {},
   "source": [
    "# Correspondendo Uma ou Mais vezes com o Sinal de Mais"
   ]
  },
  {
   "cell_type": "code",
   "execution_count": 38,
   "metadata": {},
   "outputs": [
    {
     "data": {
      "text/plain": [
       "'Batwoman'"
      ]
     },
     "execution_count": 38,
     "metadata": {},
     "output_type": "execute_result"
    }
   ],
   "source": [
    "batRegex = re.compile(r'Bat(wo)+man')\n",
    "mo1 = batRegex.search('As Aventuras de Batwoman')\n",
    "mo1.group()"
   ]
  },
  {
   "cell_type": "code",
   "execution_count": 39,
   "metadata": {},
   "outputs": [
    {
     "data": {
      "text/plain": [
       "'Batwowowowowoman'"
      ]
     },
     "execution_count": 39,
     "metadata": {},
     "output_type": "execute_result"
    }
   ],
   "source": [
    "mo2 = batRegex.search('As Aventuras de Batwowowowowoman')\n",
    "mo2.group()"
   ]
  },
  {
   "cell_type": "code",
   "execution_count": 41,
   "metadata": {},
   "outputs": [
    {
     "data": {
      "text/plain": [
       "True"
      ]
     },
     "execution_count": 41,
     "metadata": {},
     "output_type": "execute_result"
    }
   ],
   "source": [
    "mo3 = batRegex.search('As Aventuras de Batman')\n",
    "mo3 == None"
   ]
  },
  {
   "cell_type": "markdown",
   "metadata": {},
   "source": [
    "# Correspondendo Repetições Específicas com Chaves"
   ]
  },
  {
   "cell_type": "code",
   "execution_count": 42,
   "metadata": {},
   "outputs": [
    {
     "data": {
      "text/plain": [
       "'HaHaHa'"
      ]
     },
     "execution_count": 42,
     "metadata": {},
     "output_type": "execute_result"
    }
   ],
   "source": [
    "haRegex = re.compile(r'(Ha){3}')\n",
    "mo1 = haRegex.search('HaHaHa')\n",
    "mo1.group()"
   ]
  },
  {
   "cell_type": "code",
   "execution_count": 43,
   "metadata": {},
   "outputs": [
    {
     "data": {
      "text/plain": [
       "True"
      ]
     },
     "execution_count": 43,
     "metadata": {},
     "output_type": "execute_result"
    }
   ],
   "source": [
    "mo2 = haRegex.search('Ha')\n",
    "mo2 == None"
   ]
  },
  {
   "cell_type": "markdown",
   "metadata": {},
   "source": [
    "# Correspondência Gulosa e Não-Gulosa"
   ]
  },
  {
   "cell_type": "code",
   "execution_count": 46,
   "metadata": {},
   "outputs": [
    {
     "data": {
      "text/plain": [
       "'HaHaHaHaHa'"
      ]
     },
     "execution_count": 46,
     "metadata": {},
     "output_type": "execute_result"
    }
   ],
   "source": [
    "greedyHaRegex = re.compile(r'(Ha){3,5}')\n",
    "mo1 = greedyHaRegex.search('HaHaHaHaHaHa')\n",
    "mo1.group()"
   ]
  },
  {
   "cell_type": "code",
   "execution_count": 47,
   "metadata": {},
   "outputs": [
    {
     "data": {
      "text/plain": [
       "'HaHaHa'"
      ]
     },
     "execution_count": 47,
     "metadata": {},
     "output_type": "execute_result"
    }
   ],
   "source": [
    "nongreedyHaRegex = re.compile(r'(Ha){3,5}?')\n",
    "mo2 = nongreedyHaRegex.search('HaHaHaHaHaHa')\n",
    "mo2.group()"
   ]
  },
  {
   "cell_type": "markdown",
   "metadata": {},
   "source": [
    "# Método `findall()`"
   ]
  },
  {
   "cell_type": "code",
   "execution_count": 51,
   "metadata": {},
   "outputs": [
    {
     "data": {
      "text/plain": [
       "['(13) 8804-7676', '(11) 3471-7471']"
      ]
     },
     "execution_count": 51,
     "metadata": {},
     "output_type": "execute_result"
    }
   ],
   "source": [
    "phoneNumRegex = re.compile(r'\\(\\d\\d\\) \\d\\d\\d\\d-\\d\\d\\d\\d')\n",
    "phoneNumRegex.findall('Cell: (13) 8804-7676  Escritório: (11) 3471-7471')"
   ]
  },
  {
   "cell_type": "code",
   "execution_count": 52,
   "metadata": {},
   "outputs": [
    {
     "data": {
      "text/plain": [
       "[('13', '8804', '7676'), ('11', '3471', '7471')]"
      ]
     },
     "execution_count": 52,
     "metadata": {},
     "output_type": "execute_result"
    }
   ],
   "source": [
    "phoneNumRegex = re.compile(r'\\((\\d\\d)\\) (\\d\\d\\d\\d)-(\\d\\d\\d\\d)')\n",
    "phoneNumRegex.findall('Cell: (13) 8804-7676  Escritório: (11) 3471-7471')"
   ]
  },
  {
   "cell_type": "markdown",
   "metadata": {},
   "source": [
    "# Fazendo Sua Própria Classe de Caractéres"
   ]
  },
  {
   "cell_type": "code",
   "execution_count": 54,
   "metadata": {},
   "outputs": [
    {
     "data": {
      "text/plain": [
       "['o',\n",
       " 'o',\n",
       " 'o',\n",
       " 'o',\n",
       " 'e',\n",
       " 'o',\n",
       " 'i',\n",
       " 'a',\n",
       " 'e',\n",
       " 'e',\n",
       " 'ê',\n",
       " 'O',\n",
       " 'I',\n",
       " 'A',\n",
       " 'E',\n",
       " 'E',\n",
       " 'Ê']"
      ]
     },
     "execution_count": 54,
     "metadata": {},
     "output_type": "execute_result"
    }
   ],
   "source": [
    "vowelRegex = re.compile(r'[aâáàeêéèiîíìoôóòuûúùAÂÁÀEÊÉÈIÎÍÌOÔÓÒUÛÙÚ]')\n",
    "vowelRegex.findall('Robocop come comida de bebê. COMIDA DE BEBÊ.')"
   ]
  },
  {
   "cell_type": "code",
   "execution_count": 55,
   "metadata": {},
   "outputs": [
    {
     "data": {
      "text/plain": [
       "['R',\n",
       " 'b',\n",
       " 'c',\n",
       " 'p',\n",
       " ' ',\n",
       " 'c',\n",
       " 'm',\n",
       " ' ',\n",
       " 'c',\n",
       " 'm',\n",
       " 'd',\n",
       " ' ',\n",
       " 'd',\n",
       " ' ',\n",
       " 'b',\n",
       " 'b',\n",
       " '.',\n",
       " ' ',\n",
       " 'C',\n",
       " 'M',\n",
       " 'D',\n",
       " ' ',\n",
       " 'D',\n",
       " ' ',\n",
       " 'B',\n",
       " 'B',\n",
       " '.']"
      ]
     },
     "execution_count": 55,
     "metadata": {},
     "output_type": "execute_result"
    }
   ],
   "source": [
    "vowelRegex = re.compile(r'[^aâáàeêéèiîíìoôóòuûúùAÂÁÀEÊÉÈIÎÍÌOÔÓÒUÛÙÚ]')\n",
    "vowelRegex.findall('Robocop come comida de bebê. COMIDA DE BEBÊ.')"
   ]
  },
  {
   "cell_type": "markdown",
   "metadata": {},
   "source": [
    "# Classes de Caracteres\n",
    "\n",
    "+----------------------------------+-----------------------------------------------------------------------------------------+\n",
    "| Abreviação de classe de Caracter | Representa                                                                              |\n",
    "+----------------------------------+-----------------------------------------------------------------------------------------+\n",
    "| \\d                               | Qualquer dígito de 0 a 9                                                                |\n",
    "+----------------------------------+-----------------------------------------------------------------------------------------+\n",
    "| \\D                               | Qualquer caracter que não é um dígito de 0 a 9                                          |\n",
    "+----------------------------------+-----------------------------------------------------------------------------------------+\n",
    "| \\w                               | Qualquer letra, dígito numérico, ou o caracter de underline                             |\n",
    "+----------------------------------+-----------------------------------------------------------------------------------------+\n",
    "| \\W                               | Qualquer caracter que não é uma letra, um dígito numérico, ou um caracter de underline. |\n",
    "+----------------------------------+-----------------------------------------------------------------------------------------+\n",
    "| \\s                               | Qualquer espaço, tabulação ou caracter de nova linha.                                   |\n",
    "+----------------------------------+-----------------------------------------------------------------------------------------+\n",
    "| \\S                               | Qualquer caracter que não é um espaço, uma tabulação ou uma nova linha.                 |\n",
    "+----------------------------------+-----------------------------------------------------------------------------------------+"
   ]
  },
  {
   "cell_type": "code",
   "execution_count": 1,
   "metadata": {},
   "outputs": [],
   "source": [
    "text = '''\n",
    "\"Não é nepotismo\", diz Bolsonaro sobre filho ser embaixador\n",
    "Lisandra Paraguassu\n",
    "12 JUL\t2019\t12h43 atualizado às 13h03\n",
    "O presidente Jair Bolsonaro disse nesta sexta-feira que a indicação de seu filho, o deputado Eduardo Bolsonaro (PSL-SP), para a embaixada em Washington não se enquadraria como nepotismo, e que não faria a indicação se fosse.\n",
    "\n",
    "SAIBA MAIS\n",
    "Governo espera ter filho de Trump como embaixador no Brasil\n",
    "\n",
    "'Aceito a missão dada por meu pai', diz Eduardo Bolsonaro sobre embaixada nos EUA\n",
    "\n",
    "“Excelente nome”, diz chanceler sobre Eduardo em Washington\n",
    "\n",
    "Bolsonaro nomear filho é \"tiro no pé\", diz ministro do STF\n",
    "\n",
    " Deputado Eduardo Bolsonaro\n",
    "12/03/2019\n",
    "REUTERS/Ueslei Marcelino\n",
    "Deputado Eduardo Bolsonaro 12/03/2019 REUTERS/Ueslei Marcelino\n",
    "Foto: Ueslei Marcelino / Reuters\n",
    "\"Alguns falam que é nepotismo. Essa função, tem decisão do Supremo, não é nepotismo, eu jamais faria isso. Ou vocês acham que devo aconselhar o Eduardo a renunciar o mandato e voltar a ser agente da Polícia Federal?\", disse o presidente em uma live na manhã desta quinta.\n",
    "\n",
    "Uma análise jurídica interna feita pelo Planalto sobre a possibilidade apontou, em um primeiro momento, que as nomeações de primeiro escalão, como para embaixador, não se enquadram como nepotismo. Mas não foi feita ainda uma análise oficial a pedido do presidente.\n",
    "\n",
    "A questão foi levantada na quinta-feira, depois que Bolsonaro confirmou que estava analisando a indicação do filho e Eduardo admitiu que se for indicado, irá aceitar. Uma súmula do Supremo Tribunal Federal (STF) de 2008 proibiu o nepotismo. No entanto, uma decisão de 2018 da 2ª turma do STF diz que a súmula não se aplica a indicação para cargos de natureza política.\n",
    "\n",
    "Bolsonaro reafirmou que, se depender dele, só falta o filho aceitar a indicação e o Senado aprovar. Na noite de quinta, o deputado afirmou que, se for realmente indicado, aceita e renuncia ao mandato.\n",
    "\n",
    "\"Não depende de mim, depende do meu filho aceitar e do Senado que vai sabatiná-lo. Agora, vocês querem que eu coloque quem? Celso Amorim nos EUA, que é do Itamaraty?\", disse o presidente. Amorim foi chanceler durante o governo do ex-presidente Luiz Inácio Lula da Silva.\n",
    "\n",
    "Bolsonaro ainda lembra que o último ministro de Relações Exteriores, o ex-senador Aloysio Nunes Ferreira, não era diplomata e nem tinha formação na área, mas \"ninguém falava nada\".\n",
    "\n",
    "\"Eu tenho certeza absoluta que o Eduardo Bolsonaro é muito melhor do que eu. A sua vivência, a sua educação, a sua formação\", disse. \"Logicamente eu tenho muito mais experiência do que ele, em muitos momentos quem tem a razão sou eu... filho para mim vai ser sempre subordinado meu.\"\n",
    "\n",
    "Em um café da manhã com jornalistas, o ministro da Secretaria de Governo, Luiz Eduardo Ramos, admitiu que a indicação \"deu polêmica\", mas lembrou que é um processo que ainda precisa passar pelo Senado.\n",
    "\n",
    "\"O presidente tem seus momentos de pronunciamento\", disse o ministro, lembrando do anúncio de que a embaixada brasileira em Israel seria transferida para Jerusalém e a polêmica causada pelo anúncio. \"E onde a embaixada está hoje? Em Tel Aviv\", lembrou o ministro, ressaltando que não estava comparando os dois anúncios.\n",
    "\n",
    "Ramos admitiu que o momento do anúncio pode não ter sido o melhor, em meio à reforma da Previdência, já que vários deputados, na noite de quinta, criticaram o caso na tribuna da Câmara.\n",
    "\n",
    "\"Poderia anunciar semana que vem, no recesso? Talvez. Acabou sendo usado na votação. Deu margem para o pessoal falar\", disse, o ministro, que destacou no entanto que Eduardo é um \"jovem preparado\".\n",
    "'''"
   ]
  },
  {
   "cell_type": "code",
   "execution_count": 3,
   "metadata": {},
   "outputs": [],
   "source": [
    "digitsRegex = re.compile(r'\\d')\n",
    "nondigitsRegex = re.compile(r'\\D')\n",
    "wordcharsRegex = re.compile(r'\\w')\n",
    "nonwordcharsRegex = re.compile(r'\\W')\n",
    "spacecharsRegex = re.compile(r'\\s')\n",
    "nonspacecharsRegex = re.compile(r'\\S')"
   ]
  },
  {
   "cell_type": "code",
   "execution_count": 4,
   "metadata": {},
   "outputs": [
    {
     "name": "stdout",
     "output_type": "stream",
     "text": [
      "Digitos no texto\n",
      "['1', '2', '2', '0', '1', '9', '1', '2', '4', '3', '1', '3', '0', '3', '1', '2', '0', '3', '2', '0', '1', '9', '1', '2', '0', '3', '2', '0', '1', '9', '2', '0', '0', '8', '2', '0', '1', '8', '2']\n"
     ]
    }
   ],
   "source": [
    "print('Digitos no texto:')\n",
    "print(digitsRegex.findall(text))"
   ]
  },
  {
   "cell_type": "code",
   "execution_count": 5,
   "metadata": {},
   "outputs": [
    {
     "name": "stdout",
     "output_type": "stream",
     "text": [
      "Não-digitos no texto:\n",
      "['\\n', '\"', 'N', 'ã', 'o', ' ', 'é', ' ', 'n', 'e', 'p', 'o', 't', 'i', 's', 'm', 'o', '\"', ',', ' ', 'd', 'i', 'z', ' ', 'B', 'o', 'l', 's', 'o', 'n', 'a', 'r', 'o', ' ', 's', 'o', 'b', 'r', 'e', ' ', 'f', 'i', 'l', 'h', 'o', ' ', 's', 'e', 'r', ' ', 'e', 'm', 'b', 'a', 'i', 'x', 'a', 'd', 'o', 'r', '\\n', 'L', 'i', 's', 'a', 'n', 'd', 'r', 'a', ' ', 'P', 'a', 'r', 'a', 'g', 'u', 'a', 's', 's', 'u', '\\n', ' ', 'J', 'U', 'L', '\\t', '\\t', 'h', ' ', 'a', 't', 'u', 'a', 'l', 'i', 'z', 'a', 'd', 'o', ' ', 'à', 's', ' ', 'h', '\\n', 'O', ' ', 'p', 'r', 'e', 's', 'i', 'd', 'e', 'n', 't', 'e', ' ', 'J', 'a', 'i', 'r', ' ', 'B', 'o', 'l', 's', 'o', 'n', 'a', 'r', 'o', ' ', 'd', 'i', 's', 's', 'e', ' ', 'n', 'e', 's', 't', 'a', ' ', 's', 'e', 'x', 't', 'a', '-', 'f', 'e', 'i', 'r', 'a', ' ', 'q', 'u', 'e', ' ', 'a', ' ', 'i', 'n', 'd', 'i', 'c', 'a', 'ç', 'ã', 'o', ' ', 'd', 'e', ' ', 's', 'e', 'u', ' ', 'f', 'i', 'l', 'h', 'o', ',', ' ', 'o', ' ', 'd', 'e', 'p', 'u', 't', 'a', 'd', 'o', ' ', 'E', 'd', 'u', 'a', 'r', 'd', 'o', ' ', 'B', 'o', 'l', 's', 'o', 'n', 'a', 'r', 'o', ' ', '(', 'P', 'S', 'L', '-', 'S', 'P', ')', ',', ' ', 'p', 'a', 'r', 'a', ' ', 'a', ' ', 'e', 'm', 'b', 'a', 'i', 'x', 'a', 'd', 'a', ' ', 'e', 'm', ' ', 'W', 'a', 's', 'h', 'i', 'n', 'g', 't', 'o', 'n', ' ', 'n', 'ã', 'o', ' ', 's', 'e', ' ', 'e', 'n', 'q', 'u', 'a', 'd', 'r', 'a', 'r', 'i', 'a', ' ', 'c', 'o', 'm', 'o', ' ', 'n', 'e', 'p', 'o', 't', 'i', 's', 'm', 'o', ',', ' ', 'e', ' ', 'q', 'u', 'e', ' ', 'n', 'ã', 'o', ' ', 'f', 'a', 'r', 'i', 'a', ' ', 'a', ' ', 'i', 'n', 'd', 'i', 'c', 'a', 'ç', 'ã', 'o', ' ', 's', 'e', ' ', 'f', 'o', 's', 's', 'e', '.', '\\n', '\\n', 'S', 'A', 'I', 'B', 'A', ' ', 'M', 'A', 'I', 'S', '\\n', 'G', 'o', 'v', 'e', 'r', 'n', 'o', ' ', 'e', 's', 'p', 'e', 'r', 'a', ' ', 't', 'e', 'r', ' ', 'f', 'i', 'l', 'h', 'o', ' ', 'd', 'e', ' ', 'T', 'r', 'u', 'm', 'p', ' ', 'c', 'o', 'm', 'o', ' ', 'e', 'm', 'b', 'a', 'i', 'x', 'a', 'd', 'o', 'r', ' ', 'n', 'o', ' ', 'B', 'r', 'a', 's', 'i', 'l', '\\n', '\\n', \"'\", 'A', 'c', 'e', 'i', 't', 'o', ' ', 'a', ' ', 'm', 'i', 's', 's', 'ã', 'o', ' ', 'd', 'a', 'd', 'a', ' ', 'p', 'o', 'r', ' ', 'm', 'e', 'u', ' ', 'p', 'a', 'i', \"'\", ',', ' ', 'd', 'i', 'z', ' ', 'E', 'd', 'u', 'a', 'r', 'd', 'o', ' ', 'B', 'o', 'l', 's', 'o', 'n', 'a', 'r', 'o', ' ', 's', 'o', 'b', 'r', 'e', ' ', 'e', 'm', 'b', 'a', 'i', 'x', 'a', 'd', 'a', ' ', 'n', 'o', 's', ' ', 'E', 'U', 'A', '\\n', '\\n', '“', 'E', 'x', 'c', 'e', 'l', 'e', 'n', 't', 'e', ' ', 'n', 'o', 'm', 'e', '”', ',', ' ', 'd', 'i', 'z', ' ', 'c', 'h', 'a', 'n', 'c', 'e', 'l', 'e', 'r', ' ', 's', 'o', 'b', 'r', 'e', ' ', 'E', 'd', 'u', 'a', 'r', 'd', 'o', ' ', 'e', 'm', ' ', 'W', 'a', 's', 'h', 'i', 'n', 'g', 't', 'o', 'n', '\\n', '\\n', 'B', 'o', 'l', 's', 'o', 'n', 'a', 'r', 'o', ' ', 'n', 'o', 'm', 'e', 'a', 'r', ' ', 'f', 'i', 'l', 'h', 'o', ' ', 'é', ' ', '\"', 't', 'i', 'r', 'o', ' ', 'n', 'o', ' ', 'p', 'é', '\"', ',', ' ', 'd', 'i', 'z', ' ', 'm', 'i', 'n', 'i', 's', 't', 'r', 'o', ' ', 'd', 'o', ' ', 'S', 'T', 'F', '\\n', '\\n', ' ', 'D', 'e', 'p', 'u', 't', 'a', 'd', 'o', ' ', 'E', 'd', 'u', 'a', 'r', 'd', 'o', ' ', 'B', 'o', 'l', 's', 'o', 'n', 'a', 'r', 'o', '\\n', '/', '/', '\\n', 'R', 'E', 'U', 'T', 'E', 'R', 'S', '/', 'U', 'e', 's', 'l', 'e', 'i', ' ', 'M', 'a', 'r', 'c', 'e', 'l', 'i', 'n', 'o', '\\n', 'D', 'e', 'p', 'u', 't', 'a', 'd', 'o', ' ', 'E', 'd', 'u', 'a', 'r', 'd', 'o', ' ', 'B', 'o', 'l', 's', 'o', 'n', 'a', 'r', 'o', ' ', '/', '/', ' ', 'R', 'E', 'U', 'T', 'E', 'R', 'S', '/', 'U', 'e', 's', 'l', 'e', 'i', ' ', 'M', 'a', 'r', 'c', 'e', 'l', 'i', 'n', 'o', '\\n', 'F', 'o', 't', 'o', ':', ' ', 'U', 'e', 's', 'l', 'e', 'i', ' ', 'M', 'a', 'r', 'c', 'e', 'l', 'i', 'n', 'o', ' ', '/', ' ', 'R', 'e', 'u', 't', 'e', 'r', 's', '\\n', '\"', 'A', 'l', 'g', 'u', 'n', 's', ' ', 'f', 'a', 'l', 'a', 'm', ' ', 'q', 'u', 'e', ' ', 'é', ' ', 'n', 'e', 'p', 'o', 't', 'i', 's', 'm', 'o', '.', ' ', 'E', 's', 's', 'a', ' ', 'f', 'u', 'n', 'ç', 'ã', 'o', ',', ' ', 't', 'e', 'm', ' ', 'd', 'e', 'c', 'i', 's', 'ã', 'o', ' ', 'd', 'o', ' ', 'S', 'u', 'p', 'r', 'e', 'm', 'o', ',', ' ', 'n', 'ã', 'o', ' ', 'é', ' ', 'n', 'e', 'p', 'o', 't', 'i', 's', 'm', 'o', ',', ' ', 'e', 'u', ' ', 'j', 'a', 'm', 'a', 'i', 's', ' ', 'f', 'a', 'r', 'i', 'a', ' ', 'i', 's', 's', 'o', '.', ' ', 'O', 'u', ' ', 'v', 'o', 'c', 'ê', 's', ' ', 'a', 'c', 'h', 'a', 'm', ' ', 'q', 'u', 'e', ' ', 'd', 'e', 'v', 'o', ' ', 'a', 'c', 'o', 'n', 's', 'e', 'l', 'h', 'a', 'r', ' ', 'o', ' ', 'E', 'd', 'u', 'a', 'r', 'd', 'o', ' ', 'a', ' ', 'r', 'e', 'n', 'u', 'n', 'c', 'i', 'a', 'r', ' ', 'o', ' ', 'm', 'a', 'n', 'd', 'a', 't', 'o', ' ', 'e', ' ', 'v', 'o', 'l', 't', 'a', 'r', ' ', 'a', ' ', 's', 'e', 'r', ' ', 'a', 'g', 'e', 'n', 't', 'e', ' ', 'd', 'a', ' ', 'P', 'o', 'l', 'í', 'c', 'i', 'a', ' ', 'F', 'e', 'd', 'e', 'r', 'a', 'l', '?', '\"', ',', ' ', 'd', 'i', 's', 's', 'e', ' ', 'o', ' ', 'p', 'r', 'e', 's', 'i', 'd', 'e', 'n', 't', 'e', ' ', 'e', 'm', ' ', 'u', 'm', 'a', ' ', 'l', 'i', 'v', 'e', ' ', 'n', 'a', ' ', 'm', 'a', 'n', 'h', 'ã', ' ', 'd', 'e', 's', 't', 'a', ' ', 'q', 'u', 'i', 'n', 't', 'a', '.', '\\n', '\\n', 'U', 'm', 'a', ' ', 'a', 'n', 'á', 'l', 'i', 's', 'e', ' ', 'j', 'u', 'r', 'í', 'd', 'i', 'c', 'a', ' ', 'i', 'n', 't', 'e', 'r', 'n', 'a', ' ', 'f', 'e', 'i', 't', 'a', ' ', 'p', 'e', 'l', 'o', ' ', 'P', 'l', 'a', 'n', 'a', 'l', 't', 'o', ' ', 's', 'o', 'b', 'r', 'e', ' ', 'a', ' ', 'p', 'o', 's', 's', 'i', 'b', 'i', 'l', 'i', 'd', 'a', 'd', 'e', ' ', 'a', 'p', 'o', 'n', 't', 'o', 'u', ',', ' ', 'e', 'm', ' ', 'u', 'm', ' ', 'p', 'r', 'i', 'm', 'e', 'i', 'r', 'o', ' ', 'm', 'o', 'm', 'e', 'n', 't', 'o', ',', ' ', 'q', 'u', 'e', ' ', 'a', 's', ' ', 'n', 'o', 'm', 'e', 'a', 'ç', 'õ', 'e', 's', ' ', 'd', 'e', ' ', 'p', 'r', 'i', 'm', 'e', 'i', 'r', 'o', ' ', 'e', 's', 'c', 'a', 'l', 'ã', 'o', ',', ' ', 'c', 'o', 'm', 'o', ' ', 'p', 'a', 'r', 'a', ' ', 'e', 'm', 'b', 'a', 'i', 'x', 'a', 'd', 'o', 'r', ',', ' ', 'n', 'ã', 'o', ' ', 's', 'e', ' ', 'e', 'n', 'q', 'u', 'a', 'd', 'r', 'a', 'm', ' ', 'c', 'o', 'm', 'o', ' ', 'n', 'e', 'p', 'o', 't', 'i', 's', 'm', 'o', '.', ' ', 'M', 'a', 's', ' ', 'n', 'ã', 'o', ' ', 'f', 'o', 'i', ' ', 'f', 'e', 'i', 't', 'a', ' ', 'a', 'i', 'n', 'd', 'a', ' ', 'u', 'm', 'a', ' ', 'a', 'n', 'á', 'l', 'i', 's', 'e', ' ', 'o', 'f', 'i', 'c', 'i', 'a', 'l', ' ', 'a', ' ', 'p', 'e', 'd', 'i', 'd', 'o', ' ', 'd', 'o', ' ', 'p', 'r', 'e', 's', 'i', 'd', 'e', 'n', 't', 'e', '.', '\\n', '\\n', 'A', ' ', 'q', 'u', 'e', 's', 't', 'ã', 'o', ' ', 'f', 'o', 'i', ' ', 'l', 'e', 'v', 'a', 'n', 't', 'a', 'd', 'a', ' ', 'n', 'a', ' ', 'q', 'u', 'i', 'n', 't', 'a', '-', 'f', 'e', 'i', 'r', 'a', ',', ' ', 'd', 'e', 'p', 'o', 'i', 's', ' ', 'q', 'u', 'e', ' ', 'B', 'o', 'l', 's', 'o', 'n', 'a', 'r', 'o', ' ', 'c', 'o', 'n', 'f', 'i', 'r', 'm', 'o', 'u', ' ', 'q', 'u', 'e', ' ', 'e', 's', 't', 'a', 'v', 'a', ' ', 'a', 'n', 'a', 'l', 'i', 's', 'a', 'n', 'd', 'o', ' ', 'a', ' ', 'i', 'n', 'd', 'i', 'c', 'a', 'ç', 'ã', 'o', ' ', 'd', 'o', ' ', 'f', 'i', 'l', 'h', 'o', ' ', 'e', ' ', 'E', 'd', 'u', 'a', 'r', 'd', 'o', ' ', 'a', 'd', 'm', 'i', 't', 'i', 'u', ' ', 'q', 'u', 'e', ' ', 's', 'e', ' ', 'f', 'o', 'r', ' ', 'i', 'n', 'd', 'i', 'c', 'a', 'd', 'o', ',', ' ', 'i', 'r', 'á', ' ', 'a', 'c', 'e', 'i', 't', 'a', 'r', '.', ' ', 'U', 'm', 'a', ' ', 's', 'ú', 'm', 'u', 'l', 'a', ' ', 'd', 'o', ' ', 'S', 'u', 'p', 'r', 'e', 'm', 'o', ' ', 'T', 'r', 'i', 'b', 'u', 'n', 'a', 'l', ' ', 'F', 'e', 'd', 'e', 'r', 'a', 'l', ' ', '(', 'S', 'T', 'F', ')', ' ', 'd', 'e', ' ', ' ', 'p', 'r', 'o', 'i', 'b', 'i', 'u', ' ', 'o', ' ', 'n', 'e', 'p', 'o', 't', 'i', 's', 'm', 'o', '.', ' ', 'N', 'o', ' ', 'e', 'n', 't', 'a', 'n', 't', 'o', ',', ' ', 'u', 'm', 'a', ' ', 'd', 'e', 'c', 'i', 's', 'ã', 'o', ' ', 'd', 'e', ' ', ' ', 'd', 'a', ' ', 'ª', ' ', 't', 'u', 'r', 'm', 'a', ' ', 'd', 'o', ' ', 'S', 'T', 'F', ' ', 'd', 'i', 'z', ' ', 'q', 'u', 'e', ' ', 'a', ' ', 's', 'ú', 'm', 'u', 'l', 'a', ' ', 'n', 'ã', 'o', ' ', 's', 'e', ' ', 'a', 'p', 'l', 'i', 'c', 'a', ' ', 'a', ' ', 'i', 'n', 'd', 'i', 'c', 'a', 'ç', 'ã', 'o', ' ', 'p', 'a', 'r', 'a', ' ', 'c', 'a', 'r', 'g', 'o', 's', ' ', 'd', 'e', ' ', 'n', 'a', 't', 'u', 'r', 'e', 'z', 'a', ' ', 'p', 'o', 'l', 'í', 't', 'i', 'c', 'a', '.', '\\n', '\\n', 'B', 'o', 'l', 's', 'o', 'n', 'a', 'r', 'o', ' ', 'r', 'e', 'a', 'f', 'i', 'r', 'm', 'o', 'u', ' ', 'q', 'u', 'e', ',', ' ', 's', 'e', ' ', 'd', 'e', 'p', 'e', 'n', 'd', 'e', 'r', ' ', 'd', 'e', 'l', 'e', ',', ' ', 's', 'ó', ' ', 'f', 'a', 'l', 't', 'a', ' ', 'o', ' ', 'f', 'i', 'l', 'h', 'o', ' ', 'a', 'c', 'e', 'i', 't', 'a', 'r', ' ', 'a', ' ', 'i', 'n', 'd', 'i', 'c', 'a', 'ç', 'ã', 'o', ' ', 'e', ' ', 'o', ' ', 'S', 'e', 'n', 'a', 'd', 'o', ' ', 'a', 'p', 'r', 'o', 'v', 'a', 'r', '.', ' ', 'N', 'a', ' ', 'n', 'o', 'i', 't', 'e', ' ', 'd', 'e', ' ', 'q', 'u', 'i', 'n', 't', 'a', ',', ' ', 'o', ' ', 'd', 'e', 'p', 'u', 't', 'a', 'd', 'o', ' ', 'a', 'f', 'i', 'r', 'm', 'o', 'u', ' ', 'q', 'u', 'e', ',', ' ', 's', 'e', ' ', 'f', 'o', 'r', ' ', 'r', 'e', 'a', 'l', 'm', 'e', 'n', 't', 'e', ' ', 'i', 'n', 'd', 'i', 'c', 'a', 'd', 'o', ',', ' ', 'a', 'c', 'e', 'i', 't', 'a', ' ', 'e', ' ', 'r', 'e', 'n', 'u', 'n', 'c', 'i', 'a', ' ', 'a', 'o', ' ', 'm', 'a', 'n', 'd', 'a', 't', 'o', '.', '\\n', '\\n', '\"', 'N', 'ã', 'o', ' ', 'd', 'e', 'p', 'e', 'n', 'd', 'e', ' ', 'd', 'e', ' ', 'm', 'i', 'm', ',', ' ', 'd', 'e', 'p', 'e', 'n', 'd', 'e', ' ', 'd', 'o', ' ', 'm', 'e', 'u', ' ', 'f', 'i', 'l', 'h', 'o', ' ', 'a', 'c', 'e', 'i', 't', 'a', 'r', ' ', 'e', ' ', 'd', 'o', ' ', 'S', 'e', 'n', 'a', 'd', 'o', ' ', 'q', 'u', 'e', ' ', 'v', 'a', 'i', ' ', 's', 'a', 'b', 'a', 't', 'i', 'n', 'á', '-', 'l', 'o', '.', ' ', 'A', 'g', 'o', 'r', 'a', ',', ' ', 'v', 'o', 'c', 'ê', 's', ' ', 'q', 'u', 'e', 'r', 'e', 'm', ' ', 'q', 'u', 'e', ' ', 'e', 'u', ' ', 'c', 'o', 'l', 'o', 'q', 'u', 'e', ' ', 'q', 'u', 'e', 'm', '?', ' ', 'C', 'e', 'l', 's', 'o', ' ', 'A', 'm', 'o', 'r', 'i', 'm', ' ', 'n', 'o', 's', ' ', 'E', 'U', 'A', ',', ' ', 'q', 'u', 'e', ' ', 'é', ' ', 'd', 'o', ' ', 'I', 't', 'a', 'm', 'a', 'r', 'a', 't', 'y', '?', '\"', ',', ' ', 'd', 'i', 's', 's', 'e', ' ', 'o', ' ', 'p', 'r', 'e', 's', 'i', 'd', 'e', 'n', 't', 'e', '.', ' ', 'A', 'm', 'o', 'r', 'i', 'm', ' ', 'f', 'o', 'i', ' ', 'c', 'h', 'a', 'n', 'c', 'e', 'l', 'e', 'r', ' ', 'd', 'u', 'r', 'a', 'n', 't', 'e', ' ', 'o', ' ', 'g', 'o', 'v', 'e', 'r', 'n', 'o', ' ', 'd', 'o', ' ', 'e', 'x', '-', 'p', 'r', 'e', 's', 'i', 'd', 'e', 'n', 't', 'e', ' ', 'L', 'u', 'i', 'z', ' ', 'I', 'n', 'á', 'c', 'i', 'o', ' ', 'L', 'u', 'l', 'a', ' ', 'd', 'a', ' ', 'S', 'i', 'l', 'v', 'a', '.', '\\n', '\\n', 'B', 'o', 'l', 's', 'o', 'n', 'a', 'r', 'o', ' ', 'a', 'i', 'n', 'd', 'a', ' ', 'l', 'e', 'm', 'b', 'r', 'a', ' ', 'q', 'u', 'e', ' ', 'o', ' ', 'ú', 'l', 't', 'i', 'm', 'o', ' ', 'm', 'i', 'n', 'i', 's', 't', 'r', 'o', ' ', 'd', 'e', ' ', 'R', 'e', 'l', 'a', 'ç', 'õ', 'e', 's', ' ', 'E', 'x', 't', 'e', 'r', 'i', 'o', 'r', 'e', 's', ',', ' ', 'o', ' ', 'e', 'x', '-', 's', 'e', 'n', 'a', 'd', 'o', 'r', ' ', 'A', 'l', 'o', 'y', 's', 'i', 'o', ' ', 'N', 'u', 'n', 'e', 's', ' ', 'F', 'e', 'r', 'r', 'e', 'i', 'r', 'a', ',', ' ', 'n', 'ã', 'o', ' ', 'e', 'r', 'a', ' ', 'd', 'i', 'p', 'l', 'o', 'm', 'a', 't', 'a', ' ', 'e', ' ', 'n', 'e', 'm', ' ', 't', 'i', 'n', 'h', 'a', ' ', 'f', 'o', 'r', 'm', 'a', 'ç', 'ã', 'o', ' ', 'n', 'a', ' ', 'á', 'r', 'e', 'a', ',', ' ', 'm', 'a', 's', ' ', '\"', 'n', 'i', 'n', 'g', 'u', 'é', 'm', ' ', 'f', 'a', 'l', 'a', 'v', 'a', ' ', 'n', 'a', 'd', 'a', '\"', '.', '\\n', '\\n', '\"', 'E', 'u', ' ', 't', 'e', 'n', 'h', 'o', ' ', 'c', 'e', 'r', 't', 'e', 'z', 'a', ' ', 'a', 'b', 's', 'o', 'l', 'u', 't', 'a', ' ', 'q', 'u', 'e', ' ', 'o', ' ', 'E', 'd', 'u', 'a', 'r', 'd', 'o', ' ', 'B', 'o', 'l', 's', 'o', 'n', 'a', 'r', 'o', ' ', 'é', ' ', 'm', 'u', 'i', 't', 'o', ' ', 'm', 'e', 'l', 'h', 'o', 'r', ' ', 'd', 'o', ' ', 'q', 'u', 'e', ' ', 'e', 'u', '.', ' ', 'A', ' ', 's', 'u', 'a', ' ', 'v', 'i', 'v', 'ê', 'n', 'c', 'i', 'a', ',', ' ', 'a', ' ', 's', 'u', 'a', ' ', 'e', 'd', 'u', 'c', 'a', 'ç', 'ã', 'o', ',', ' ', 'a', ' ', 's', 'u', 'a', ' ', 'f', 'o', 'r', 'm', 'a', 'ç', 'ã', 'o', '\"', ',', ' ', 'd', 'i', 's', 's', 'e', '.', ' ', '\"', 'L', 'o', 'g', 'i', 'c', 'a', 'm', 'e', 'n', 't', 'e', ' ', 'e', 'u', ' ', 't', 'e', 'n', 'h', 'o', ' ', 'm', 'u', 'i', 't', 'o', ' ', 'm', 'a', 'i', 's', ' ', 'e', 'x', 'p', 'e', 'r', 'i', 'ê', 'n', 'c', 'i', 'a', ' ', 'd', 'o', ' ', 'q', 'u', 'e', ' ', 'e', 'l', 'e', ',', ' ', 'e', 'm', ' ', 'm', 'u', 'i', 't', 'o', 's', ' ', 'm', 'o', 'm', 'e', 'n', 't', 'o', 's', ' ', 'q', 'u', 'e', 'm', ' ', 't', 'e', 'm', ' ', 'a', ' ', 'r', 'a', 'z', 'ã', 'o', ' ', 's', 'o', 'u', ' ', 'e', 'u', '.', '.', '.', ' ', 'f', 'i', 'l', 'h', 'o', ' ', 'p', 'a', 'r', 'a', ' ', 'm', 'i', 'm', ' ', 'v', 'a', 'i', ' ', 's', 'e', 'r', ' ', 's', 'e', 'm', 'p', 'r', 'e', ' ', 's', 'u', 'b', 'o', 'r', 'd', 'i', 'n', 'a', 'd', 'o', ' ', 'm', 'e', 'u', '.', '\"', '\\n', '\\n', 'E', 'm', ' ', 'u', 'm', ' ', 'c', 'a', 'f', 'é', ' ', 'd', 'a', ' ', 'm', 'a', 'n', 'h', 'ã', ' ', 'c', 'o', 'm', ' ', 'j', 'o', 'r', 'n', 'a', 'l', 'i', 's', 't', 'a', 's', ',', ' ', 'o', ' ', 'm', 'i', 'n', 'i', 's', 't', 'r', 'o', ' ', 'd', 'a', ' ', 'S', 'e', 'c', 'r', 'e', 't', 'a', 'r', 'i', 'a', ' ', 'd', 'e', ' ', 'G', 'o', 'v', 'e', 'r', 'n', 'o', ',', ' ', 'L', 'u', 'i', 'z', ' ', 'E', 'd', 'u', 'a', 'r', 'd', 'o', ' ', 'R', 'a', 'm', 'o', 's', ',', ' ', 'a', 'd', 'm', 'i', 't', 'i', 'u', ' ', 'q', 'u', 'e', ' ', 'a', ' ', 'i', 'n', 'd', 'i', 'c', 'a', 'ç', 'ã', 'o', ' ', '\"', 'd', 'e', 'u', ' ', 'p', 'o', 'l', 'ê', 'm', 'i', 'c', 'a', '\"', ',', ' ', 'm', 'a', 's', ' ', 'l', 'e', 'm', 'b', 'r', 'o', 'u', ' ', 'q', 'u', 'e', ' ', 'é', ' ', 'u', 'm', ' ', 'p', 'r', 'o', 'c', 'e', 's', 's', 'o', ' ', 'q', 'u', 'e', ' ', 'a', 'i', 'n', 'd', 'a', ' ', 'p', 'r', 'e', 'c', 'i', 's', 'a', ' ', 'p', 'a', 's', 's', 'a', 'r', ' ', 'p', 'e', 'l', 'o', ' ', 'S', 'e', 'n', 'a', 'd', 'o', '.', '\\n', '\\n', '\"', 'O', ' ', 'p', 'r', 'e', 's', 'i', 'd', 'e', 'n', 't', 'e', ' ', 't', 'e', 'm', ' ', 's', 'e', 'u', 's', ' ', 'm', 'o', 'm', 'e', 'n', 't', 'o', 's', ' ', 'd', 'e', ' ', 'p', 'r', 'o', 'n', 'u', 'n', 'c', 'i', 'a', 'm', 'e', 'n', 't', 'o', '\"', ',', ' ', 'd', 'i', 's', 's', 'e', ' ', 'o', ' ', 'm', 'i', 'n', 'i', 's', 't', 'r', 'o', ',', ' ', 'l', 'e', 'm', 'b', 'r', 'a', 'n', 'd', 'o', ' ', 'd', 'o', ' ', 'a', 'n', 'ú', 'n', 'c', 'i', 'o', ' ', 'd', 'e', ' ', 'q', 'u', 'e', ' ', 'a', ' ', 'e', 'm', 'b', 'a', 'i', 'x', 'a', 'd', 'a', ' ', 'b', 'r', 'a', 's', 'i', 'l', 'e', 'i', 'r', 'a', ' ', 'e', 'm', ' ', 'I', 's', 'r', 'a', 'e', 'l', ' ', 's', 'e', 'r', 'i', 'a', ' ', 't', 'r', 'a', 'n', 's', 'f', 'e', 'r', 'i', 'd', 'a', ' ', 'p', 'a', 'r', 'a', ' ', 'J', 'e', 'r', 'u', 's', 'a', 'l', 'é', 'm', ' ', 'e', ' ', 'a', ' ', 'p', 'o', 'l', 'ê', 'm', 'i', 'c', 'a', ' ', 'c', 'a', 'u', 's', 'a', 'd', 'a', ' ', 'p', 'e', 'l', 'o', ' ', 'a', 'n', 'ú', 'n', 'c', 'i', 'o', '.', ' ', '\"', 'E', ' ', 'o', 'n', 'd', 'e', ' ', 'a', ' ', 'e', 'm', 'b', 'a', 'i', 'x', 'a', 'd', 'a', ' ', 'e', 's', 't', 'á', ' ', 'h', 'o', 'j', 'e', '?', ' ', 'E', 'm', ' ', 'T', 'e', 'l', ' ', 'A', 'v', 'i', 'v', '\"', ',', ' ', 'l', 'e', 'm', 'b', 'r', 'o', 'u', ' ', 'o', ' ', 'm', 'i', 'n', 'i', 's', 't', 'r', 'o', ',', ' ', 'r', 'e', 's', 's', 'a', 'l', 't', 'a', 'n', 'd', 'o', ' ', 'q', 'u', 'e', ' ', 'n', 'ã', 'o', ' ', 'e', 's', 't', 'a', 'v', 'a', ' ', 'c', 'o', 'm', 'p', 'a', 'r', 'a', 'n', 'd', 'o', ' ', 'o', 's', ' ', 'd', 'o', 'i', 's', ' ', 'a', 'n', 'ú', 'n', 'c', 'i', 'o', 's', '.', '\\n', '\\n', 'R', 'a', 'm', 'o', 's', ' ', 'a', 'd', 'm', 'i', 't', 'i', 'u', ' ', 'q', 'u', 'e', ' ', 'o', ' ', 'm', 'o', 'm', 'e', 'n', 't', 'o', ' ', 'd', 'o', ' ', 'a', 'n', 'ú', 'n', 'c', 'i', 'o', ' ', 'p', 'o', 'd', 'e', ' ', 'n', 'ã', 'o', ' ', 't', 'e', 'r', ' ', 's', 'i', 'd', 'o', ' ', 'o', ' ', 'm', 'e', 'l', 'h', 'o', 'r', ',', ' ', 'e', 'm', ' ', 'm', 'e', 'i', 'o', ' ', 'à', ' ', 'r', 'e', 'f', 'o', 'r', 'm', 'a', ' ', 'd', 'a', ' ', 'P', 'r', 'e', 'v', 'i', 'd', 'ê', 'n', 'c', 'i', 'a', ',', ' ', 'j', 'á', ' ', 'q', 'u', 'e', ' ', 'v', 'á', 'r', 'i', 'o', 's', ' ', 'd', 'e', 'p', 'u', 't', 'a', 'd', 'o', 's', ',', ' ', 'n', 'a', ' ', 'n', 'o', 'i', 't', 'e', ' ', 'd', 'e', ' ', 'q', 'u', 'i', 'n', 't', 'a', ',', ' ', 'c', 'r', 'i', 't', 'i', 'c', 'a', 'r', 'a', 'm', ' ', 'o', ' ', 'c', 'a', 's', 'o', ' ', 'n', 'a', ' ', 't', 'r', 'i', 'b', 'u', 'n', 'a', ' ', 'd', 'a', ' ', 'C', 'â', 'm', 'a', 'r', 'a', '.', '\\n', '\\n', '\"', 'P', 'o', 'd', 'e', 'r', 'i', 'a', ' ', 'a', 'n', 'u', 'n', 'c', 'i', 'a', 'r', ' ', 's', 'e', 'm', 'a', 'n', 'a', ' ', 'q', 'u', 'e', ' ', 'v', 'e', 'm', ',', ' ', 'n', 'o', ' ', 'r', 'e', 'c', 'e', 's', 's', 'o', '?', ' ', 'T', 'a', 'l', 'v', 'e', 'z', '.', ' ', 'A', 'c', 'a', 'b', 'o', 'u', ' ', 's', 'e', 'n', 'd', 'o', ' ', 'u', 's', 'a', 'd', 'o', ' ', 'n', 'a', ' ', 'v', 'o', 't', 'a', 'ç', 'ã', 'o', '.', ' ', 'D', 'e', 'u', ' ', 'm', 'a', 'r', 'g', 'e', 'm', ' ', 'p', 'a', 'r', 'a', ' ', 'o', ' ', 'p', 'e', 's', 's', 'o', 'a', 'l', ' ', 'f', 'a', 'l', 'a', 'r', '\"', ',', ' ', 'd', 'i', 's', 's', 'e', ',', ' ', 'o', ' ', 'm', 'i', 'n', 'i', 's', 't', 'r', 'o', ',', ' ', 'q', 'u', 'e', ' ', 'd', 'e', 's', 't', 'a', 'c', 'o', 'u', ' ', 'n', 'o', ' ', 'e', 'n', 't', 'a', 'n', 't', 'o', ' ', 'q', 'u', 'e', ' ', 'E', 'd', 'u', 'a', 'r', 'd', 'o', ' ', 'é', ' ', 'u', 'm', ' ', '\"', 'j', 'o', 'v', 'e', 'm', ' ', 'p', 'r', 'e', 'p', 'a', 'r', 'a', 'd', 'o', '\"', '.', '\\n']\n"
     ]
    }
   ],
   "source": [
    "print('Não-digitos no texto:')\n",
    "print(nondigitsRegex.findall(text))"
   ]
  },
  {
   "cell_type": "code",
   "execution_count": 6,
   "metadata": {},
   "outputs": [
    {
     "name": "stdout",
     "output_type": "stream",
     "text": [
      "Caracteres de palavra no texto:\n",
      "['N', 'ã', 'o', 'é', 'n', 'e', 'p', 'o', 't', 'i', 's', 'm', 'o', 'd', 'i', 'z', 'B', 'o', 'l', 's', 'o', 'n', 'a', 'r', 'o', 's', 'o', 'b', 'r', 'e', 'f', 'i', 'l', 'h', 'o', 's', 'e', 'r', 'e', 'm', 'b', 'a', 'i', 'x', 'a', 'd', 'o', 'r', 'L', 'i', 's', 'a', 'n', 'd', 'r', 'a', 'P', 'a', 'r', 'a', 'g', 'u', 'a', 's', 's', 'u', '1', '2', 'J', 'U', 'L', '2', '0', '1', '9', '1', '2', 'h', '4', '3', 'a', 't', 'u', 'a', 'l', 'i', 'z', 'a', 'd', 'o', 'à', 's', '1', '3', 'h', '0', '3', 'O', 'p', 'r', 'e', 's', 'i', 'd', 'e', 'n', 't', 'e', 'J', 'a', 'i', 'r', 'B', 'o', 'l', 's', 'o', 'n', 'a', 'r', 'o', 'd', 'i', 's', 's', 'e', 'n', 'e', 's', 't', 'a', 's', 'e', 'x', 't', 'a', 'f', 'e', 'i', 'r', 'a', 'q', 'u', 'e', 'a', 'i', 'n', 'd', 'i', 'c', 'a', 'ç', 'ã', 'o', 'd', 'e', 's', 'e', 'u', 'f', 'i', 'l', 'h', 'o', 'o', 'd', 'e', 'p', 'u', 't', 'a', 'd', 'o', 'E', 'd', 'u', 'a', 'r', 'd', 'o', 'B', 'o', 'l', 's', 'o', 'n', 'a', 'r', 'o', 'P', 'S', 'L', 'S', 'P', 'p', 'a', 'r', 'a', 'a', 'e', 'm', 'b', 'a', 'i', 'x', 'a', 'd', 'a', 'e', 'm', 'W', 'a', 's', 'h', 'i', 'n', 'g', 't', 'o', 'n', 'n', 'ã', 'o', 's', 'e', 'e', 'n', 'q', 'u', 'a', 'd', 'r', 'a', 'r', 'i', 'a', 'c', 'o', 'm', 'o', 'n', 'e', 'p', 'o', 't', 'i', 's', 'm', 'o', 'e', 'q', 'u', 'e', 'n', 'ã', 'o', 'f', 'a', 'r', 'i', 'a', 'a', 'i', 'n', 'd', 'i', 'c', 'a', 'ç', 'ã', 'o', 's', 'e', 'f', 'o', 's', 's', 'e', 'S', 'A', 'I', 'B', 'A', 'M', 'A', 'I', 'S', 'G', 'o', 'v', 'e', 'r', 'n', 'o', 'e', 's', 'p', 'e', 'r', 'a', 't', 'e', 'r', 'f', 'i', 'l', 'h', 'o', 'd', 'e', 'T', 'r', 'u', 'm', 'p', 'c', 'o', 'm', 'o', 'e', 'm', 'b', 'a', 'i', 'x', 'a', 'd', 'o', 'r', 'n', 'o', 'B', 'r', 'a', 's', 'i', 'l', 'A', 'c', 'e', 'i', 't', 'o', 'a', 'm', 'i', 's', 's', 'ã', 'o', 'd', 'a', 'd', 'a', 'p', 'o', 'r', 'm', 'e', 'u', 'p', 'a', 'i', 'd', 'i', 'z', 'E', 'd', 'u', 'a', 'r', 'd', 'o', 'B', 'o', 'l', 's', 'o', 'n', 'a', 'r', 'o', 's', 'o', 'b', 'r', 'e', 'e', 'm', 'b', 'a', 'i', 'x', 'a', 'd', 'a', 'n', 'o', 's', 'E', 'U', 'A', 'E', 'x', 'c', 'e', 'l', 'e', 'n', 't', 'e', 'n', 'o', 'm', 'e', 'd', 'i', 'z', 'c', 'h', 'a', 'n', 'c', 'e', 'l', 'e', 'r', 's', 'o', 'b', 'r', 'e', 'E', 'd', 'u', 'a', 'r', 'd', 'o', 'e', 'm', 'W', 'a', 's', 'h', 'i', 'n', 'g', 't', 'o', 'n', 'B', 'o', 'l', 's', 'o', 'n', 'a', 'r', 'o', 'n', 'o', 'm', 'e', 'a', 'r', 'f', 'i', 'l', 'h', 'o', 'é', 't', 'i', 'r', 'o', 'n', 'o', 'p', 'é', 'd', 'i', 'z', 'm', 'i', 'n', 'i', 's', 't', 'r', 'o', 'd', 'o', 'S', 'T', 'F', 'D', 'e', 'p', 'u', 't', 'a', 'd', 'o', 'E', 'd', 'u', 'a', 'r', 'd', 'o', 'B', 'o', 'l', 's', 'o', 'n', 'a', 'r', 'o', '1', '2', '0', '3', '2', '0', '1', '9', 'R', 'E', 'U', 'T', 'E', 'R', 'S', 'U', 'e', 's', 'l', 'e', 'i', 'M', 'a', 'r', 'c', 'e', 'l', 'i', 'n', 'o', 'D', 'e', 'p', 'u', 't', 'a', 'd', 'o', 'E', 'd', 'u', 'a', 'r', 'd', 'o', 'B', 'o', 'l', 's', 'o', 'n', 'a', 'r', 'o', '1', '2', '0', '3', '2', '0', '1', '9', 'R', 'E', 'U', 'T', 'E', 'R', 'S', 'U', 'e', 's', 'l', 'e', 'i', 'M', 'a', 'r', 'c', 'e', 'l', 'i', 'n', 'o', 'F', 'o', 't', 'o', 'U', 'e', 's', 'l', 'e', 'i', 'M', 'a', 'r', 'c', 'e', 'l', 'i', 'n', 'o', 'R', 'e', 'u', 't', 'e', 'r', 's', 'A', 'l', 'g', 'u', 'n', 's', 'f', 'a', 'l', 'a', 'm', 'q', 'u', 'e', 'é', 'n', 'e', 'p', 'o', 't', 'i', 's', 'm', 'o', 'E', 's', 's', 'a', 'f', 'u', 'n', 'ç', 'ã', 'o', 't', 'e', 'm', 'd', 'e', 'c', 'i', 's', 'ã', 'o', 'd', 'o', 'S', 'u', 'p', 'r', 'e', 'm', 'o', 'n', 'ã', 'o', 'é', 'n', 'e', 'p', 'o', 't', 'i', 's', 'm', 'o', 'e', 'u', 'j', 'a', 'm', 'a', 'i', 's', 'f', 'a', 'r', 'i', 'a', 'i', 's', 's', 'o', 'O', 'u', 'v', 'o', 'c', 'ê', 's', 'a', 'c', 'h', 'a', 'm', 'q', 'u', 'e', 'd', 'e', 'v', 'o', 'a', 'c', 'o', 'n', 's', 'e', 'l', 'h', 'a', 'r', 'o', 'E', 'd', 'u', 'a', 'r', 'd', 'o', 'a', 'r', 'e', 'n', 'u', 'n', 'c', 'i', 'a', 'r', 'o', 'm', 'a', 'n', 'd', 'a', 't', 'o', 'e', 'v', 'o', 'l', 't', 'a', 'r', 'a', 's', 'e', 'r', 'a', 'g', 'e', 'n', 't', 'e', 'd', 'a', 'P', 'o', 'l', 'í', 'c', 'i', 'a', 'F', 'e', 'd', 'e', 'r', 'a', 'l', 'd', 'i', 's', 's', 'e', 'o', 'p', 'r', 'e', 's', 'i', 'd', 'e', 'n', 't', 'e', 'e', 'm', 'u', 'm', 'a', 'l', 'i', 'v', 'e', 'n', 'a', 'm', 'a', 'n', 'h', 'ã', 'd', 'e', 's', 't', 'a', 'q', 'u', 'i', 'n', 't', 'a', 'U', 'm', 'a', 'a', 'n', 'á', 'l', 'i', 's', 'e', 'j', 'u', 'r', 'í', 'd', 'i', 'c', 'a', 'i', 'n', 't', 'e', 'r', 'n', 'a', 'f', 'e', 'i', 't', 'a', 'p', 'e', 'l', 'o', 'P', 'l', 'a', 'n', 'a', 'l', 't', 'o', 's', 'o', 'b', 'r', 'e', 'a', 'p', 'o', 's', 's', 'i', 'b', 'i', 'l', 'i', 'd', 'a', 'd', 'e', 'a', 'p', 'o', 'n', 't', 'o', 'u', 'e', 'm', 'u', 'm', 'p', 'r', 'i', 'm', 'e', 'i', 'r', 'o', 'm', 'o', 'm', 'e', 'n', 't', 'o', 'q', 'u', 'e', 'a', 's', 'n', 'o', 'm', 'e', 'a', 'ç', 'õ', 'e', 's', 'd', 'e', 'p', 'r', 'i', 'm', 'e', 'i', 'r', 'o', 'e', 's', 'c', 'a', 'l', 'ã', 'o', 'c', 'o', 'm', 'o', 'p', 'a', 'r', 'a', 'e', 'm', 'b', 'a', 'i', 'x', 'a', 'd', 'o', 'r', 'n', 'ã', 'o', 's', 'e', 'e', 'n', 'q', 'u', 'a', 'd', 'r', 'a', 'm', 'c', 'o', 'm', 'o', 'n', 'e', 'p', 'o', 't', 'i', 's', 'm', 'o', 'M', 'a', 's', 'n', 'ã', 'o', 'f', 'o', 'i', 'f', 'e', 'i', 't', 'a', 'a', 'i', 'n', 'd', 'a', 'u', 'm', 'a', 'a', 'n', 'á', 'l', 'i', 's', 'e', 'o', 'f', 'i', 'c', 'i', 'a', 'l', 'a', 'p', 'e', 'd', 'i', 'd', 'o', 'd', 'o', 'p', 'r', 'e', 's', 'i', 'd', 'e', 'n', 't', 'e', 'A', 'q', 'u', 'e', 's', 't', 'ã', 'o', 'f', 'o', 'i', 'l', 'e', 'v', 'a', 'n', 't', 'a', 'd', 'a', 'n', 'a', 'q', 'u', 'i', 'n', 't', 'a', 'f', 'e', 'i', 'r', 'a', 'd', 'e', 'p', 'o', 'i', 's', 'q', 'u', 'e', 'B', 'o', 'l', 's', 'o', 'n', 'a', 'r', 'o', 'c', 'o', 'n', 'f', 'i', 'r', 'm', 'o', 'u', 'q', 'u', 'e', 'e', 's', 't', 'a', 'v', 'a', 'a', 'n', 'a', 'l', 'i', 's', 'a', 'n', 'd', 'o', 'a', 'i', 'n', 'd', 'i', 'c', 'a', 'ç', 'ã', 'o', 'd', 'o', 'f', 'i', 'l', 'h', 'o', 'e', 'E', 'd', 'u', 'a', 'r', 'd', 'o', 'a', 'd', 'm', 'i', 't', 'i', 'u', 'q', 'u', 'e', 's', 'e', 'f', 'o', 'r', 'i', 'n', 'd', 'i', 'c', 'a', 'd', 'o', 'i', 'r', 'á', 'a', 'c', 'e', 'i', 't', 'a', 'r', 'U', 'm', 'a', 's', 'ú', 'm', 'u', 'l', 'a', 'd', 'o', 'S', 'u', 'p', 'r', 'e', 'm', 'o', 'T', 'r', 'i', 'b', 'u', 'n', 'a', 'l', 'F', 'e', 'd', 'e', 'r', 'a', 'l', 'S', 'T', 'F', 'd', 'e', '2', '0', '0', '8', 'p', 'r', 'o', 'i', 'b', 'i', 'u', 'o', 'n', 'e', 'p', 'o', 't', 'i', 's', 'm', 'o', 'N', 'o', 'e', 'n', 't', 'a', 'n', 't', 'o', 'u', 'm', 'a', 'd', 'e', 'c', 'i', 's', 'ã', 'o', 'd', 'e', '2', '0', '1', '8', 'd', 'a', '2', 'ª', 't', 'u', 'r', 'm', 'a', 'd', 'o', 'S', 'T', 'F', 'd', 'i', 'z', 'q', 'u', 'e', 'a', 's', 'ú', 'm', 'u', 'l', 'a', 'n', 'ã', 'o', 's', 'e', 'a', 'p', 'l', 'i', 'c', 'a', 'a', 'i', 'n', 'd', 'i', 'c', 'a', 'ç', 'ã', 'o', 'p', 'a', 'r', 'a', 'c', 'a', 'r', 'g', 'o', 's', 'd', 'e', 'n', 'a', 't', 'u', 'r', 'e', 'z', 'a', 'p', 'o', 'l', 'í', 't', 'i', 'c', 'a', 'B', 'o', 'l', 's', 'o', 'n', 'a', 'r', 'o', 'r', 'e', 'a', 'f', 'i', 'r', 'm', 'o', 'u', 'q', 'u', 'e', 's', 'e', 'd', 'e', 'p', 'e', 'n', 'd', 'e', 'r', 'd', 'e', 'l', 'e', 's', 'ó', 'f', 'a', 'l', 't', 'a', 'o', 'f', 'i', 'l', 'h', 'o', 'a', 'c', 'e', 'i', 't', 'a', 'r', 'a', 'i', 'n', 'd', 'i', 'c', 'a', 'ç', 'ã', 'o', 'e', 'o', 'S', 'e', 'n', 'a', 'd', 'o', 'a', 'p', 'r', 'o', 'v', 'a', 'r', 'N', 'a', 'n', 'o', 'i', 't', 'e', 'd', 'e', 'q', 'u', 'i', 'n', 't', 'a', 'o', 'd', 'e', 'p', 'u', 't', 'a', 'd', 'o', 'a', 'f', 'i', 'r', 'm', 'o', 'u', 'q', 'u', 'e', 's', 'e', 'f', 'o', 'r', 'r', 'e', 'a', 'l', 'm', 'e', 'n', 't', 'e', 'i', 'n', 'd', 'i', 'c', 'a', 'd', 'o', 'a', 'c', 'e', 'i', 't', 'a', 'e', 'r', 'e', 'n', 'u', 'n', 'c', 'i', 'a', 'a', 'o', 'm', 'a', 'n', 'd', 'a', 't', 'o', 'N', 'ã', 'o', 'd', 'e', 'p', 'e', 'n', 'd', 'e', 'd', 'e', 'm', 'i', 'm', 'd', 'e', 'p', 'e', 'n', 'd', 'e', 'd', 'o', 'm', 'e', 'u', 'f', 'i', 'l', 'h', 'o', 'a', 'c', 'e', 'i', 't', 'a', 'r', 'e', 'd', 'o', 'S', 'e', 'n', 'a', 'd', 'o', 'q', 'u', 'e', 'v', 'a', 'i', 's', 'a', 'b', 'a', 't', 'i', 'n', 'á', 'l', 'o', 'A', 'g', 'o', 'r', 'a', 'v', 'o', 'c', 'ê', 's', 'q', 'u', 'e', 'r', 'e', 'm', 'q', 'u', 'e', 'e', 'u', 'c', 'o', 'l', 'o', 'q', 'u', 'e', 'q', 'u', 'e', 'm', 'C', 'e', 'l', 's', 'o', 'A', 'm', 'o', 'r', 'i', 'm', 'n', 'o', 's', 'E', 'U', 'A', 'q', 'u', 'e', 'é', 'd', 'o', 'I', 't', 'a', 'm', 'a', 'r', 'a', 't', 'y', 'd', 'i', 's', 's', 'e', 'o', 'p', 'r', 'e', 's', 'i', 'd', 'e', 'n', 't', 'e', 'A', 'm', 'o', 'r', 'i', 'm', 'f', 'o', 'i', 'c', 'h', 'a', 'n', 'c', 'e', 'l', 'e', 'r', 'd', 'u', 'r', 'a', 'n', 't', 'e', 'o', 'g', 'o', 'v', 'e', 'r', 'n', 'o', 'd', 'o', 'e', 'x', 'p', 'r', 'e', 's', 'i', 'd', 'e', 'n', 't', 'e', 'L', 'u', 'i', 'z', 'I', 'n', 'á', 'c', 'i', 'o', 'L', 'u', 'l', 'a', 'd', 'a', 'S', 'i', 'l', 'v', 'a', 'B', 'o', 'l', 's', 'o', 'n', 'a', 'r', 'o', 'a', 'i', 'n', 'd', 'a', 'l', 'e', 'm', 'b', 'r', 'a', 'q', 'u', 'e', 'o', 'ú', 'l', 't', 'i', 'm', 'o', 'm', 'i', 'n', 'i', 's', 't', 'r', 'o', 'd', 'e', 'R', 'e', 'l', 'a', 'ç', 'õ', 'e', 's', 'E', 'x', 't', 'e', 'r', 'i', 'o', 'r', 'e', 's', 'o', 'e', 'x', 's', 'e', 'n', 'a', 'd', 'o', 'r', 'A', 'l', 'o', 'y', 's', 'i', 'o', 'N', 'u', 'n', 'e', 's', 'F', 'e', 'r', 'r', 'e', 'i', 'r', 'a', 'n', 'ã', 'o', 'e', 'r', 'a', 'd', 'i', 'p', 'l', 'o', 'm', 'a', 't', 'a', 'e', 'n', 'e', 'm', 't', 'i', 'n', 'h', 'a', 'f', 'o', 'r', 'm', 'a', 'ç', 'ã', 'o', 'n', 'a', 'á', 'r', 'e', 'a', 'm', 'a', 's', 'n', 'i', 'n', 'g', 'u', 'é', 'm', 'f', 'a', 'l', 'a', 'v', 'a', 'n', 'a', 'd', 'a', 'E', 'u', 't', 'e', 'n', 'h', 'o', 'c', 'e', 'r', 't', 'e', 'z', 'a', 'a', 'b', 's', 'o', 'l', 'u', 't', 'a', 'q', 'u', 'e', 'o', 'E', 'd', 'u', 'a', 'r', 'd', 'o', 'B', 'o', 'l', 's', 'o', 'n', 'a', 'r', 'o', 'é', 'm', 'u', 'i', 't', 'o', 'm', 'e', 'l', 'h', 'o', 'r', 'd', 'o', 'q', 'u', 'e', 'e', 'u', 'A', 's', 'u', 'a', 'v', 'i', 'v', 'ê', 'n', 'c', 'i', 'a', 'a', 's', 'u', 'a', 'e', 'd', 'u', 'c', 'a', 'ç', 'ã', 'o', 'a', 's', 'u', 'a', 'f', 'o', 'r', 'm', 'a', 'ç', 'ã', 'o', 'd', 'i', 's', 's', 'e', 'L', 'o', 'g', 'i', 'c', 'a', 'm', 'e', 'n', 't', 'e', 'e', 'u', 't', 'e', 'n', 'h', 'o', 'm', 'u', 'i', 't', 'o', 'm', 'a', 'i', 's', 'e', 'x', 'p', 'e', 'r', 'i', 'ê', 'n', 'c', 'i', 'a', 'd', 'o', 'q', 'u', 'e', 'e', 'l', 'e', 'e', 'm', 'm', 'u', 'i', 't', 'o', 's', 'm', 'o', 'm', 'e', 'n', 't', 'o', 's', 'q', 'u', 'e', 'm', 't', 'e', 'm', 'a', 'r', 'a', 'z', 'ã', 'o', 's', 'o', 'u', 'e', 'u', 'f', 'i', 'l', 'h', 'o', 'p', 'a', 'r', 'a', 'm', 'i', 'm', 'v', 'a', 'i', 's', 'e', 'r', 's', 'e', 'm', 'p', 'r', 'e', 's', 'u', 'b', 'o', 'r', 'd', 'i', 'n', 'a', 'd', 'o', 'm', 'e', 'u', 'E', 'm', 'u', 'm', 'c', 'a', 'f', 'é', 'd', 'a', 'm', 'a', 'n', 'h', 'ã', 'c', 'o', 'm', 'j', 'o', 'r', 'n', 'a', 'l', 'i', 's', 't', 'a', 's', 'o', 'm', 'i', 'n', 'i', 's', 't', 'r', 'o', 'd', 'a', 'S', 'e', 'c', 'r', 'e', 't', 'a', 'r', 'i', 'a', 'd', 'e', 'G', 'o', 'v', 'e', 'r', 'n', 'o', 'L', 'u', 'i', 'z', 'E', 'd', 'u', 'a', 'r', 'd', 'o', 'R', 'a', 'm', 'o', 's', 'a', 'd', 'm', 'i', 't', 'i', 'u', 'q', 'u', 'e', 'a', 'i', 'n', 'd', 'i', 'c', 'a', 'ç', 'ã', 'o', 'd', 'e', 'u', 'p', 'o', 'l', 'ê', 'm', 'i', 'c', 'a', 'm', 'a', 's', 'l', 'e', 'm', 'b', 'r', 'o', 'u', 'q', 'u', 'e', 'é', 'u', 'm', 'p', 'r', 'o', 'c', 'e', 's', 's', 'o', 'q', 'u', 'e', 'a', 'i', 'n', 'd', 'a', 'p', 'r', 'e', 'c', 'i', 's', 'a', 'p', 'a', 's', 's', 'a', 'r', 'p', 'e', 'l', 'o', 'S', 'e', 'n', 'a', 'd', 'o', 'O', 'p', 'r', 'e', 's', 'i', 'd', 'e', 'n', 't', 'e', 't', 'e', 'm', 's', 'e', 'u', 's', 'm', 'o', 'm', 'e', 'n', 't', 'o', 's', 'd', 'e', 'p', 'r', 'o', 'n', 'u', 'n', 'c', 'i', 'a', 'm', 'e', 'n', 't', 'o', 'd', 'i', 's', 's', 'e', 'o', 'm', 'i', 'n', 'i', 's', 't', 'r', 'o', 'l', 'e', 'm', 'b', 'r', 'a', 'n', 'd', 'o', 'd', 'o', 'a', 'n', 'ú', 'n', 'c', 'i', 'o', 'd', 'e', 'q', 'u', 'e', 'a', 'e', 'm', 'b', 'a', 'i', 'x', 'a', 'd', 'a', 'b', 'r', 'a', 's', 'i', 'l', 'e', 'i', 'r', 'a', 'e', 'm', 'I', 's', 'r', 'a', 'e', 'l', 's', 'e', 'r', 'i', 'a', 't', 'r', 'a', 'n', 's', 'f', 'e', 'r', 'i', 'd', 'a', 'p', 'a', 'r', 'a', 'J', 'e', 'r', 'u', 's', 'a', 'l', 'é', 'm', 'e', 'a', 'p', 'o', 'l', 'ê', 'm', 'i', 'c', 'a', 'c', 'a', 'u', 's', 'a', 'd', 'a', 'p', 'e', 'l', 'o', 'a', 'n', 'ú', 'n', 'c', 'i', 'o', 'E', 'o', 'n', 'd', 'e', 'a', 'e', 'm', 'b', 'a', 'i', 'x', 'a', 'd', 'a', 'e', 's', 't', 'á', 'h', 'o', 'j', 'e', 'E', 'm', 'T', 'e', 'l', 'A', 'v', 'i', 'v', 'l', 'e', 'm', 'b', 'r', 'o', 'u', 'o', 'm', 'i', 'n', 'i', 's', 't', 'r', 'o', 'r', 'e', 's', 's', 'a', 'l', 't', 'a', 'n', 'd', 'o', 'q', 'u', 'e', 'n', 'ã', 'o', 'e', 's', 't', 'a', 'v', 'a', 'c', 'o', 'm', 'p', 'a', 'r', 'a', 'n', 'd', 'o', 'o', 's', 'd', 'o', 'i', 's', 'a', 'n', 'ú', 'n', 'c', 'i', 'o', 's', 'R', 'a', 'm', 'o', 's', 'a', 'd', 'm', 'i', 't', 'i', 'u', 'q', 'u', 'e', 'o', 'm', 'o', 'm', 'e', 'n', 't', 'o', 'd', 'o', 'a', 'n', 'ú', 'n', 'c', 'i', 'o', 'p', 'o', 'd', 'e', 'n', 'ã', 'o', 't', 'e', 'r', 's', 'i', 'd', 'o', 'o', 'm', 'e', 'l', 'h', 'o', 'r', 'e', 'm', 'm', 'e', 'i', 'o', 'à', 'r', 'e', 'f', 'o', 'r', 'm', 'a', 'd', 'a', 'P', 'r', 'e', 'v', 'i', 'd', 'ê', 'n', 'c', 'i', 'a', 'j', 'á', 'q', 'u', 'e', 'v', 'á', 'r', 'i', 'o', 's', 'd', 'e', 'p', 'u', 't', 'a', 'd', 'o', 's', 'n', 'a', 'n', 'o', 'i', 't', 'e', 'd', 'e', 'q', 'u', 'i', 'n', 't', 'a', 'c', 'r', 'i', 't', 'i', 'c', 'a', 'r', 'a', 'm', 'o', 'c', 'a', 's', 'o', 'n', 'a', 't', 'r', 'i', 'b', 'u', 'n', 'a', 'd', 'a', 'C', 'â', 'm', 'a', 'r', 'a', 'P', 'o', 'd', 'e', 'r', 'i', 'a', 'a', 'n', 'u', 'n', 'c', 'i', 'a', 'r', 's', 'e', 'm', 'a', 'n', 'a', 'q', 'u', 'e', 'v', 'e', 'm', 'n', 'o', 'r', 'e', 'c', 'e', 's', 's', 'o', 'T', 'a', 'l', 'v', 'e', 'z', 'A', 'c', 'a', 'b', 'o', 'u', 's', 'e', 'n', 'd', 'o', 'u', 's', 'a', 'd', 'o', 'n', 'a', 'v', 'o', 't', 'a', 'ç', 'ã', 'o', 'D', 'e', 'u', 'm', 'a', 'r', 'g', 'e', 'm', 'p', 'a', 'r', 'a', 'o', 'p', 'e', 's', 's', 'o', 'a', 'l', 'f', 'a', 'l', 'a', 'r', 'd', 'i', 's', 's', 'e', 'o', 'm', 'i', 'n', 'i', 's', 't', 'r', 'o', 'q', 'u', 'e', 'd', 'e', 's', 't', 'a', 'c', 'o', 'u', 'n', 'o', 'e', 'n', 't', 'a', 'n', 't', 'o', 'q', 'u', 'e', 'E', 'd', 'u', 'a', 'r', 'd', 'o', 'é', 'u', 'm', 'j', 'o', 'v', 'e', 'm', 'p', 'r', 'e', 'p', 'a', 'r', 'a', 'd', 'o']\n",
      "--------------------------------------------------------------------------------\n",
      "Caracteres de não-palavra no texto:\n",
      "--------------------------------------------------------------------------------\n",
      "Caracteres de espaço no texto:\n",
      "['\\n', ' ', ' ', ' ', ' ', ' ', ' ', ' ', ' ', '\\n', ' ', '\\n', ' ', '\\t', '\\t', ' ', ' ', ' ', '\\n', ' ', ' ', ' ', ' ', ' ', ' ', ' ', ' ', ' ', ' ', ' ', ' ', ' ', ' ', ' ', ' ', ' ', ' ', ' ', ' ', ' ', ' ', ' ', ' ', ' ', ' ', ' ', ' ', ' ', ' ', ' ', ' ', ' ', ' ', ' ', '\\n', '\\n', ' ', '\\n', ' ', ' ', ' ', ' ', ' ', ' ', ' ', ' ', ' ', '\\n', '\\n', ' ', ' ', ' ', ' ', ' ', ' ', ' ', ' ', ' ', ' ', ' ', ' ', ' ', '\\n', '\\n', ' ', ' ', ' ', ' ', ' ', ' ', ' ', '\\n', '\\n', ' ', ' ', ' ', ' ', ' ', ' ', ' ', ' ', ' ', ' ', '\\n', '\\n', ' ', ' ', ' ', '\\n', '\\n', ' ', '\\n', ' ', ' ', ' ', ' ', ' ', '\\n', ' ', ' ', ' ', ' ', '\\n', ' ', ' ', ' ', ' ', ' ', ' ', ' ', ' ', ' ', ' ', ' ', ' ', ' ', ' ', ' ', ' ', ' ', ' ', ' ', ' ', ' ', ' ', ' ', ' ', ' ', ' ', ' ', ' ', ' ', ' ', ' ', ' ', ' ', ' ', ' ', ' ', ' ', ' ', ' ', ' ', ' ', ' ', ' ', ' ', ' ', ' ', ' ', '\\n', '\\n', ' ', ' ', ' ', ' ', ' ', ' ', ' ', ' ', ' ', ' ', ' ', ' ', ' ', ' ', ' ', ' ', ' ', ' ', ' ', ' ', ' ', ' ', ' ', ' ', ' ', ' ', ' ', ' ', ' ', ' ', ' ', ' ', ' ', ' ', ' ', ' ', ' ', ' ', ' ', ' ', '\\n', '\\n', ' ', ' ', ' ', ' ', ' ', ' ', ' ', ' ', ' ', ' ', ' ', ' ', ' ', ' ', ' ', ' ', ' ', ' ', ' ', ' ', ' ', ' ', ' ', ' ', ' ', ' ', ' ', ' ', ' ', ' ', ' ', ' ', ' ', ' ', ' ', ' ', ' ', ' ', ' ', ' ', ' ', ' ', ' ', ' ', ' ', ' ', ' ', ' ', ' ', ' ', ' ', ' ', ' ', ' ', ' ', ' ', ' ', ' ', ' ', ' ', ' ', ' ', '\\n', '\\n', ' ', ' ', ' ', ' ', ' ', ' ', ' ', ' ', ' ', ' ', ' ', ' ', ' ', ' ', ' ', ' ', ' ', ' ', ' ', ' ', ' ', ' ', ' ', ' ', ' ', ' ', ' ', ' ', ' ', ' ', ' ', ' ', ' ', '\\n', '\\n', ' ', ' ', ' ', ' ', ' ', ' ', ' ', ' ', ' ', ' ', ' ', ' ', ' ', ' ', ' ', ' ', ' ', ' ', ' ', ' ', ' ', ' ', ' ', ' ', ' ', ' ', ' ', ' ', ' ', ' ', ' ', ' ', ' ', ' ', ' ', ' ', ' ', ' ', ' ', ' ', ' ', ' ', ' ', ' ', ' ', '\\n', '\\n', ' ', ' ', ' ', ' ', ' ', ' ', ' ', ' ', ' ', ' ', ' ', ' ', ' ', ' ', ' ', ' ', ' ', ' ', ' ', ' ', ' ', ' ', ' ', ' ', ' ', ' ', ' ', '\\n', '\\n', ' ', ' ', ' ', ' ', ' ', ' ', ' ', ' ', ' ', ' ', ' ', ' ', ' ', ' ', ' ', ' ', ' ', ' ', ' ', ' ', ' ', ' ', ' ', ' ', ' ', ' ', ' ', ' ', ' ', ' ', ' ', ' ', ' ', ' ', ' ', ' ', ' ', ' ', ' ', ' ', ' ', ' ', ' ', ' ', ' ', ' ', ' ', ' ', ' ', '\\n', '\\n', ' ', ' ', ' ', ' ', ' ', ' ', ' ', ' ', ' ', ' ', ' ', ' ', ' ', ' ', ' ', ' ', ' ', ' ', ' ', ' ', ' ', ' ', ' ', ' ', ' ', ' ', ' ', ' ', ' ', ' ', ' ', ' ', ' ', '\\n', '\\n', ' ', ' ', ' ', ' ', ' ', ' ', ' ', ' ', ' ', ' ', ' ', ' ', ' ', ' ', ' ', ' ', ' ', ' ', ' ', ' ', ' ', ' ', ' ', ' ', ' ', ' ', ' ', ' ', ' ', ' ', ' ', ' ', ' ', ' ', ' ', ' ', ' ', ' ', ' ', ' ', ' ', ' ', ' ', ' ', ' ', ' ', ' ', ' ', ' ', '\\n', '\\n', ' ', ' ', ' ', ' ', ' ', ' ', ' ', ' ', ' ', ' ', ' ', ' ', ' ', ' ', ' ', ' ', ' ', ' ', ' ', ' ', ' ', ' ', ' ', ' ', ' ', ' ', ' ', ' ', ' ', ' ', ' ', ' ', ' ', '\\n', '\\n', ' ', ' ', ' ', ' ', ' ', ' ', ' ', ' ', ' ', ' ', ' ', ' ', ' ', ' ', ' ', ' ', ' ', ' ', ' ', ' ', ' ', ' ', ' ', ' ', ' ', ' ', ' ', ' ', ' ', ' ', ' ', '\\n']\n",
      "--------------------------------------------------------------------------------\n",
      "Caracteres de não-espaço no texto:\n",
      "['\"', 'N', 'ã', 'o', 'é', 'n', 'e', 'p', 'o', 't', 'i', 's', 'm', 'o', '\"', ',', 'd', 'i', 'z', 'B', 'o', 'l', 's', 'o', 'n', 'a', 'r', 'o', 's', 'o', 'b', 'r', 'e', 'f', 'i', 'l', 'h', 'o', 's', 'e', 'r', 'e', 'm', 'b', 'a', 'i', 'x', 'a', 'd', 'o', 'r', 'L', 'i', 's', 'a', 'n', 'd', 'r', 'a', 'P', 'a', 'r', 'a', 'g', 'u', 'a', 's', 's', 'u', '1', '2', 'J', 'U', 'L', '2', '0', '1', '9', '1', '2', 'h', '4', '3', 'a', 't', 'u', 'a', 'l', 'i', 'z', 'a', 'd', 'o', 'à', 's', '1', '3', 'h', '0', '3', 'O', 'p', 'r', 'e', 's', 'i', 'd', 'e', 'n', 't', 'e', 'J', 'a', 'i', 'r', 'B', 'o', 'l', 's', 'o', 'n', 'a', 'r', 'o', 'd', 'i', 's', 's', 'e', 'n', 'e', 's', 't', 'a', 's', 'e', 'x', 't', 'a', '-', 'f', 'e', 'i', 'r', 'a', 'q', 'u', 'e', 'a', 'i', 'n', 'd', 'i', 'c', 'a', 'ç', 'ã', 'o', 'd', 'e', 's', 'e', 'u', 'f', 'i', 'l', 'h', 'o', ',', 'o', 'd', 'e', 'p', 'u', 't', 'a', 'd', 'o', 'E', 'd', 'u', 'a', 'r', 'd', 'o', 'B', 'o', 'l', 's', 'o', 'n', 'a', 'r', 'o', '(', 'P', 'S', 'L', '-', 'S', 'P', ')', ',', 'p', 'a', 'r', 'a', 'a', 'e', 'm', 'b', 'a', 'i', 'x', 'a', 'd', 'a', 'e', 'm', 'W', 'a', 's', 'h', 'i', 'n', 'g', 't', 'o', 'n', 'n', 'ã', 'o', 's', 'e', 'e', 'n', 'q', 'u', 'a', 'd', 'r', 'a', 'r', 'i', 'a', 'c', 'o', 'm', 'o', 'n', 'e', 'p', 'o', 't', 'i', 's', 'm', 'o', ',', 'e', 'q', 'u', 'e', 'n', 'ã', 'o', 'f', 'a', 'r', 'i', 'a', 'a', 'i', 'n', 'd', 'i', 'c', 'a', 'ç', 'ã', 'o', 's', 'e', 'f', 'o', 's', 's', 'e', '.', 'S', 'A', 'I', 'B', 'A', 'M', 'A', 'I', 'S', 'G', 'o', 'v', 'e', 'r', 'n', 'o', 'e', 's', 'p', 'e', 'r', 'a', 't', 'e', 'r', 'f', 'i', 'l', 'h', 'o', 'd', 'e', 'T', 'r', 'u', 'm', 'p', 'c', 'o', 'm', 'o', 'e', 'm', 'b', 'a', 'i', 'x', 'a', 'd', 'o', 'r', 'n', 'o', 'B', 'r', 'a', 's', 'i', 'l', \"'\", 'A', 'c', 'e', 'i', 't', 'o', 'a', 'm', 'i', 's', 's', 'ã', 'o', 'd', 'a', 'd', 'a', 'p', 'o', 'r', 'm', 'e', 'u', 'p', 'a', 'i', \"'\", ',', 'd', 'i', 'z', 'E', 'd', 'u', 'a', 'r', 'd', 'o', 'B', 'o', 'l', 's', 'o', 'n', 'a', 'r', 'o', 's', 'o', 'b', 'r', 'e', 'e', 'm', 'b', 'a', 'i', 'x', 'a', 'd', 'a', 'n', 'o', 's', 'E', 'U', 'A', '“', 'E', 'x', 'c', 'e', 'l', 'e', 'n', 't', 'e', 'n', 'o', 'm', 'e', '”', ',', 'd', 'i', 'z', 'c', 'h', 'a', 'n', 'c', 'e', 'l', 'e', 'r', 's', 'o', 'b', 'r', 'e', 'E', 'd', 'u', 'a', 'r', 'd', 'o', 'e', 'm', 'W', 'a', 's', 'h', 'i', 'n', 'g', 't', 'o', 'n', 'B', 'o', 'l', 's', 'o', 'n', 'a', 'r', 'o', 'n', 'o', 'm', 'e', 'a', 'r', 'f', 'i', 'l', 'h', 'o', 'é', '\"', 't', 'i', 'r', 'o', 'n', 'o', 'p', 'é', '\"', ',', 'd', 'i', 'z', 'm', 'i', 'n', 'i', 's', 't', 'r', 'o', 'd', 'o', 'S', 'T', 'F', 'D', 'e', 'p', 'u', 't', 'a', 'd', 'o', 'E', 'd', 'u', 'a', 'r', 'd', 'o', 'B', 'o', 'l', 's', 'o', 'n', 'a', 'r', 'o', '1', '2', '/', '0', '3', '/', '2', '0', '1', '9', 'R', 'E', 'U', 'T', 'E', 'R', 'S', '/', 'U', 'e', 's', 'l', 'e', 'i', 'M', 'a', 'r', 'c', 'e', 'l', 'i', 'n', 'o', 'D', 'e', 'p', 'u', 't', 'a', 'd', 'o', 'E', 'd', 'u', 'a', 'r', 'd', 'o', 'B', 'o', 'l', 's', 'o', 'n', 'a', 'r', 'o', '1', '2', '/', '0', '3', '/', '2', '0', '1', '9', 'R', 'E', 'U', 'T', 'E', 'R', 'S', '/', 'U', 'e', 's', 'l', 'e', 'i', 'M', 'a', 'r', 'c', 'e', 'l', 'i', 'n', 'o', 'F', 'o', 't', 'o', ':', 'U', 'e', 's', 'l', 'e', 'i', 'M', 'a', 'r', 'c', 'e', 'l', 'i', 'n', 'o', '/', 'R', 'e', 'u', 't', 'e', 'r', 's', '\"', 'A', 'l', 'g', 'u', 'n', 's', 'f', 'a', 'l', 'a', 'm', 'q', 'u', 'e', 'é', 'n', 'e', 'p', 'o', 't', 'i', 's', 'm', 'o', '.', 'E', 's', 's', 'a', 'f', 'u', 'n', 'ç', 'ã', 'o', ',', 't', 'e', 'm', 'd', 'e', 'c', 'i', 's', 'ã', 'o', 'd', 'o', 'S', 'u', 'p', 'r', 'e', 'm', 'o', ',', 'n', 'ã', 'o', 'é', 'n', 'e', 'p', 'o', 't', 'i', 's', 'm', 'o', ',', 'e', 'u', 'j', 'a', 'm', 'a', 'i', 's', 'f', 'a', 'r', 'i', 'a', 'i', 's', 's', 'o', '.', 'O', 'u', 'v', 'o', 'c', 'ê', 's', 'a', 'c', 'h', 'a', 'm', 'q', 'u', 'e', 'd', 'e', 'v', 'o', 'a', 'c', 'o', 'n', 's', 'e', 'l', 'h', 'a', 'r', 'o', 'E', 'd', 'u', 'a', 'r', 'd', 'o', 'a', 'r', 'e', 'n', 'u', 'n', 'c', 'i', 'a', 'r', 'o', 'm', 'a', 'n', 'd', 'a', 't', 'o', 'e', 'v', 'o', 'l', 't', 'a', 'r', 'a', 's', 'e', 'r', 'a', 'g', 'e', 'n', 't', 'e', 'd', 'a', 'P', 'o', 'l', 'í', 'c', 'i', 'a', 'F', 'e', 'd', 'e', 'r', 'a', 'l', '?', '\"', ',', 'd', 'i', 's', 's', 'e', 'o', 'p', 'r', 'e', 's', 'i', 'd', 'e', 'n', 't', 'e', 'e', 'm', 'u', 'm', 'a', 'l', 'i', 'v', 'e', 'n', 'a', 'm', 'a', 'n', 'h', 'ã', 'd', 'e', 's', 't', 'a', 'q', 'u', 'i', 'n', 't', 'a', '.', 'U', 'm', 'a', 'a', 'n', 'á', 'l', 'i', 's', 'e', 'j', 'u', 'r', 'í', 'd', 'i', 'c', 'a', 'i', 'n', 't', 'e', 'r', 'n', 'a', 'f', 'e', 'i', 't', 'a', 'p', 'e', 'l', 'o', 'P', 'l', 'a', 'n', 'a', 'l', 't', 'o', 's', 'o', 'b', 'r', 'e', 'a', 'p', 'o', 's', 's', 'i', 'b', 'i', 'l', 'i', 'd', 'a', 'd', 'e', 'a', 'p', 'o', 'n', 't', 'o', 'u', ',', 'e', 'm', 'u', 'm', 'p', 'r', 'i', 'm', 'e', 'i', 'r', 'o', 'm', 'o', 'm', 'e', 'n', 't', 'o', ',', 'q', 'u', 'e', 'a', 's', 'n', 'o', 'm', 'e', 'a', 'ç', 'õ', 'e', 's', 'd', 'e', 'p', 'r', 'i', 'm', 'e', 'i', 'r', 'o', 'e', 's', 'c', 'a', 'l', 'ã', 'o', ',', 'c', 'o', 'm', 'o', 'p', 'a', 'r', 'a', 'e', 'm', 'b', 'a', 'i', 'x', 'a', 'd', 'o', 'r', ',', 'n', 'ã', 'o', 's', 'e', 'e', 'n', 'q', 'u', 'a', 'd', 'r', 'a', 'm', 'c', 'o', 'm', 'o', 'n', 'e', 'p', 'o', 't', 'i', 's', 'm', 'o', '.', 'M', 'a', 's', 'n', 'ã', 'o', 'f', 'o', 'i', 'f', 'e', 'i', 't', 'a', 'a', 'i', 'n', 'd', 'a', 'u', 'm', 'a', 'a', 'n', 'á', 'l', 'i', 's', 'e', 'o', 'f', 'i', 'c', 'i', 'a', 'l', 'a', 'p', 'e', 'd', 'i', 'd', 'o', 'd', 'o', 'p', 'r', 'e', 's', 'i', 'd', 'e', 'n', 't', 'e', '.', 'A', 'q', 'u', 'e', 's', 't', 'ã', 'o', 'f', 'o', 'i', 'l', 'e', 'v', 'a', 'n', 't', 'a', 'd', 'a', 'n', 'a', 'q', 'u', 'i', 'n', 't', 'a', '-', 'f', 'e', 'i', 'r', 'a', ',', 'd', 'e', 'p', 'o', 'i', 's', 'q', 'u', 'e', 'B', 'o', 'l', 's', 'o', 'n', 'a', 'r', 'o', 'c', 'o', 'n', 'f', 'i', 'r', 'm', 'o', 'u', 'q', 'u', 'e', 'e', 's', 't', 'a', 'v', 'a', 'a', 'n', 'a', 'l', 'i', 's', 'a', 'n', 'd', 'o', 'a', 'i', 'n', 'd', 'i', 'c', 'a', 'ç', 'ã', 'o', 'd', 'o', 'f', 'i', 'l', 'h', 'o', 'e', 'E', 'd', 'u', 'a', 'r', 'd', 'o', 'a', 'd', 'm', 'i', 't', 'i', 'u', 'q', 'u', 'e', 's', 'e', 'f', 'o', 'r', 'i', 'n', 'd', 'i', 'c', 'a', 'd', 'o', ',', 'i', 'r', 'á', 'a', 'c', 'e', 'i', 't', 'a', 'r', '.', 'U', 'm', 'a', 's', 'ú', 'm', 'u', 'l', 'a', 'd', 'o', 'S', 'u', 'p', 'r', 'e', 'm', 'o', 'T', 'r', 'i', 'b', 'u', 'n', 'a', 'l', 'F', 'e', 'd', 'e', 'r', 'a', 'l', '(', 'S', 'T', 'F', ')', 'd', 'e', '2', '0', '0', '8', 'p', 'r', 'o', 'i', 'b', 'i', 'u', 'o', 'n', 'e', 'p', 'o', 't', 'i', 's', 'm', 'o', '.', 'N', 'o', 'e', 'n', 't', 'a', 'n', 't', 'o', ',', 'u', 'm', 'a', 'd', 'e', 'c', 'i', 's', 'ã', 'o', 'd', 'e', '2', '0', '1', '8', 'd', 'a', '2', 'ª', 't', 'u', 'r', 'm', 'a', 'd', 'o', 'S', 'T', 'F', 'd', 'i', 'z', 'q', 'u', 'e', 'a', 's', 'ú', 'm', 'u', 'l', 'a', 'n', 'ã', 'o', 's', 'e', 'a', 'p', 'l', 'i', 'c', 'a', 'a', 'i', 'n', 'd', 'i', 'c', 'a', 'ç', 'ã', 'o', 'p', 'a', 'r', 'a', 'c', 'a', 'r', 'g', 'o', 's', 'd', 'e', 'n', 'a', 't', 'u', 'r', 'e', 'z', 'a', 'p', 'o', 'l', 'í', 't', 'i', 'c', 'a', '.', 'B', 'o', 'l', 's', 'o', 'n', 'a', 'r', 'o', 'r', 'e', 'a', 'f', 'i', 'r', 'm', 'o', 'u', 'q', 'u', 'e', ',', 's', 'e', 'd', 'e', 'p', 'e', 'n', 'd', 'e', 'r', 'd', 'e', 'l', 'e', ',', 's', 'ó', 'f', 'a', 'l', 't', 'a', 'o', 'f', 'i', 'l', 'h', 'o', 'a', 'c', 'e', 'i', 't', 'a', 'r', 'a', 'i', 'n', 'd', 'i', 'c', 'a', 'ç', 'ã', 'o', 'e', 'o', 'S', 'e', 'n', 'a', 'd', 'o', 'a', 'p', 'r', 'o', 'v', 'a', 'r', '.', 'N', 'a', 'n', 'o', 'i', 't', 'e', 'd', 'e', 'q', 'u', 'i', 'n', 't', 'a', ',', 'o', 'd', 'e', 'p', 'u', 't', 'a', 'd', 'o', 'a', 'f', 'i', 'r', 'm', 'o', 'u', 'q', 'u', 'e', ',', 's', 'e', 'f', 'o', 'r', 'r', 'e', 'a', 'l', 'm', 'e', 'n', 't', 'e', 'i', 'n', 'd', 'i', 'c', 'a', 'd', 'o', ',', 'a', 'c', 'e', 'i', 't', 'a', 'e', 'r', 'e', 'n', 'u', 'n', 'c', 'i', 'a', 'a', 'o', 'm', 'a', 'n', 'd', 'a', 't', 'o', '.', '\"', 'N', 'ã', 'o', 'd', 'e', 'p', 'e', 'n', 'd', 'e', 'd', 'e', 'm', 'i', 'm', ',', 'd', 'e', 'p', 'e', 'n', 'd', 'e', 'd', 'o', 'm', 'e', 'u', 'f', 'i', 'l', 'h', 'o', 'a', 'c', 'e', 'i', 't', 'a', 'r', 'e', 'd', 'o', 'S', 'e', 'n', 'a', 'd', 'o', 'q', 'u', 'e', 'v', 'a', 'i', 's', 'a', 'b', 'a', 't', 'i', 'n', 'á', '-', 'l', 'o', '.', 'A', 'g', 'o', 'r', 'a', ',', 'v', 'o', 'c', 'ê', 's', 'q', 'u', 'e', 'r', 'e', 'm', 'q', 'u', 'e', 'e', 'u', 'c', 'o', 'l', 'o', 'q', 'u', 'e', 'q', 'u', 'e', 'm', '?', 'C', 'e', 'l', 's', 'o', 'A', 'm', 'o', 'r', 'i', 'm', 'n', 'o', 's', 'E', 'U', 'A', ',', 'q', 'u', 'e', 'é', 'd', 'o', 'I', 't', 'a', 'm', 'a', 'r', 'a', 't', 'y', '?', '\"', ',', 'd', 'i', 's', 's', 'e', 'o', 'p', 'r', 'e', 's', 'i', 'd', 'e', 'n', 't', 'e', '.', 'A', 'm', 'o', 'r', 'i', 'm', 'f', 'o', 'i', 'c', 'h', 'a', 'n', 'c', 'e', 'l', 'e', 'r', 'd', 'u', 'r', 'a', 'n', 't', 'e', 'o', 'g', 'o', 'v', 'e', 'r', 'n', 'o', 'd', 'o', 'e', 'x', '-', 'p', 'r', 'e', 's', 'i', 'd', 'e', 'n', 't', 'e', 'L', 'u', 'i', 'z', 'I', 'n', 'á', 'c', 'i', 'o', 'L', 'u', 'l', 'a', 'd', 'a', 'S', 'i', 'l', 'v', 'a', '.', 'B', 'o', 'l', 's', 'o', 'n', 'a', 'r', 'o', 'a', 'i', 'n', 'd', 'a', 'l', 'e', 'm', 'b', 'r', 'a', 'q', 'u', 'e', 'o', 'ú', 'l', 't', 'i', 'm', 'o', 'm', 'i', 'n', 'i', 's', 't', 'r', 'o', 'd', 'e', 'R', 'e', 'l', 'a', 'ç', 'õ', 'e', 's', 'E', 'x', 't', 'e', 'r', 'i', 'o', 'r', 'e', 's', ',', 'o', 'e', 'x', '-', 's', 'e', 'n', 'a', 'd', 'o', 'r', 'A', 'l', 'o', 'y', 's', 'i', 'o', 'N', 'u', 'n', 'e', 's', 'F', 'e', 'r', 'r', 'e', 'i', 'r', 'a', ',', 'n', 'ã', 'o', 'e', 'r', 'a', 'd', 'i', 'p', 'l', 'o', 'm', 'a', 't', 'a', 'e', 'n', 'e', 'm', 't', 'i', 'n', 'h', 'a', 'f', 'o', 'r', 'm', 'a', 'ç', 'ã', 'o', 'n', 'a', 'á', 'r', 'e', 'a', ',', 'm', 'a', 's', '\"', 'n', 'i', 'n', 'g', 'u', 'é', 'm', 'f', 'a', 'l', 'a', 'v', 'a', 'n', 'a', 'd', 'a', '\"', '.', '\"', 'E', 'u', 't', 'e', 'n', 'h', 'o', 'c', 'e', 'r', 't', 'e', 'z', 'a', 'a', 'b', 's', 'o', 'l', 'u', 't', 'a', 'q', 'u', 'e', 'o', 'E', 'd', 'u', 'a', 'r', 'd', 'o', 'B', 'o', 'l', 's', 'o', 'n', 'a', 'r', 'o', 'é', 'm', 'u', 'i', 't', 'o', 'm', 'e', 'l', 'h', 'o', 'r', 'd', 'o', 'q', 'u', 'e', 'e', 'u', '.', 'A', 's', 'u', 'a', 'v', 'i', 'v', 'ê', 'n', 'c', 'i', 'a', ',', 'a', 's', 'u', 'a', 'e', 'd', 'u', 'c', 'a', 'ç', 'ã', 'o', ',', 'a', 's', 'u', 'a', 'f', 'o', 'r', 'm', 'a', 'ç', 'ã', 'o', '\"', ',', 'd', 'i', 's', 's', 'e', '.', '\"', 'L', 'o', 'g', 'i', 'c', 'a', 'm', 'e', 'n', 't', 'e', 'e', 'u', 't', 'e', 'n', 'h', 'o', 'm', 'u', 'i', 't', 'o', 'm', 'a', 'i', 's', 'e', 'x', 'p', 'e', 'r', 'i', 'ê', 'n', 'c', 'i', 'a', 'd', 'o', 'q', 'u', 'e', 'e', 'l', 'e', ',', 'e', 'm', 'm', 'u', 'i', 't', 'o', 's', 'm', 'o', 'm', 'e', 'n', 't', 'o', 's', 'q', 'u', 'e', 'm', 't', 'e', 'm', 'a', 'r', 'a', 'z', 'ã', 'o', 's', 'o', 'u', 'e', 'u', '.', '.', '.', 'f', 'i', 'l', 'h', 'o', 'p', 'a', 'r', 'a', 'm', 'i', 'm', 'v', 'a', 'i', 's', 'e', 'r', 's', 'e', 'm', 'p', 'r', 'e', 's', 'u', 'b', 'o', 'r', 'd', 'i', 'n', 'a', 'd', 'o', 'm', 'e', 'u', '.', '\"', 'E', 'm', 'u', 'm', 'c', 'a', 'f', 'é', 'd', 'a', 'm', 'a', 'n', 'h', 'ã', 'c', 'o', 'm', 'j', 'o', 'r', 'n', 'a', 'l', 'i', 's', 't', 'a', 's', ',', 'o', 'm', 'i', 'n', 'i', 's', 't', 'r', 'o', 'd', 'a', 'S', 'e', 'c', 'r', 'e', 't', 'a', 'r', 'i', 'a', 'd', 'e', 'G', 'o', 'v', 'e', 'r', 'n', 'o', ',', 'L', 'u', 'i', 'z', 'E', 'd', 'u', 'a', 'r', 'd', 'o', 'R', 'a', 'm', 'o', 's', ',', 'a', 'd', 'm', 'i', 't', 'i', 'u', 'q', 'u', 'e', 'a', 'i', 'n', 'd', 'i', 'c', 'a', 'ç', 'ã', 'o', '\"', 'd', 'e', 'u', 'p', 'o', 'l', 'ê', 'm', 'i', 'c', 'a', '\"', ',', 'm', 'a', 's', 'l', 'e', 'm', 'b', 'r', 'o', 'u', 'q', 'u', 'e', 'é', 'u', 'm', 'p', 'r', 'o', 'c', 'e', 's', 's', 'o', 'q', 'u', 'e', 'a', 'i', 'n', 'd', 'a', 'p', 'r', 'e', 'c', 'i', 's', 'a', 'p', 'a', 's', 's', 'a', 'r', 'p', 'e', 'l', 'o', 'S', 'e', 'n', 'a', 'd', 'o', '.', '\"', 'O', 'p', 'r', 'e', 's', 'i', 'd', 'e', 'n', 't', 'e', 't', 'e', 'm', 's', 'e', 'u', 's', 'm', 'o', 'm', 'e', 'n', 't', 'o', 's', 'd', 'e', 'p', 'r', 'o', 'n', 'u', 'n', 'c', 'i', 'a', 'm', 'e', 'n', 't', 'o', '\"', ',', 'd', 'i', 's', 's', 'e', 'o', 'm', 'i', 'n', 'i', 's', 't', 'r', 'o', ',', 'l', 'e', 'm', 'b', 'r', 'a', 'n', 'd', 'o', 'd', 'o', 'a', 'n', 'ú', 'n', 'c', 'i', 'o', 'd', 'e', 'q', 'u', 'e', 'a', 'e', 'm', 'b', 'a', 'i', 'x', 'a', 'd', 'a', 'b', 'r', 'a', 's', 'i', 'l', 'e', 'i', 'r', 'a', 'e', 'm', 'I', 's', 'r', 'a', 'e', 'l', 's', 'e', 'r', 'i', 'a', 't', 'r', 'a', 'n', 's', 'f', 'e', 'r', 'i', 'd', 'a', 'p', 'a', 'r', 'a', 'J', 'e', 'r', 'u', 's', 'a', 'l', 'é', 'm', 'e', 'a', 'p', 'o', 'l', 'ê', 'm', 'i', 'c', 'a', 'c', 'a', 'u', 's', 'a', 'd', 'a', 'p', 'e', 'l', 'o', 'a', 'n', 'ú', 'n', 'c', 'i', 'o', '.', '\"', 'E', 'o', 'n', 'd', 'e', 'a', 'e', 'm', 'b', 'a', 'i', 'x', 'a', 'd', 'a', 'e', 's', 't', 'á', 'h', 'o', 'j', 'e', '?', 'E', 'm', 'T', 'e', 'l', 'A', 'v', 'i', 'v', '\"', ',', 'l', 'e', 'm', 'b', 'r', 'o', 'u', 'o', 'm', 'i', 'n', 'i', 's', 't', 'r', 'o', ',', 'r', 'e', 's', 's', 'a', 'l', 't', 'a', 'n', 'd', 'o', 'q', 'u', 'e', 'n', 'ã', 'o', 'e', 's', 't', 'a', 'v', 'a', 'c', 'o', 'm', 'p', 'a', 'r', 'a', 'n', 'd', 'o', 'o', 's', 'd', 'o', 'i', 's', 'a', 'n', 'ú', 'n', 'c', 'i', 'o', 's', '.', 'R', 'a', 'm', 'o', 's', 'a', 'd', 'm', 'i', 't', 'i', 'u', 'q', 'u', 'e', 'o', 'm', 'o', 'm', 'e', 'n', 't', 'o', 'd', 'o', 'a', 'n', 'ú', 'n', 'c', 'i', 'o', 'p', 'o', 'd', 'e', 'n', 'ã', 'o', 't', 'e', 'r', 's', 'i', 'd', 'o', 'o', 'm', 'e', 'l', 'h', 'o', 'r', ',', 'e', 'm', 'm', 'e', 'i', 'o', 'à', 'r', 'e', 'f', 'o', 'r', 'm', 'a', 'd', 'a', 'P', 'r', 'e', 'v', 'i', 'd', 'ê', 'n', 'c', 'i', 'a', ',', 'j', 'á', 'q', 'u', 'e', 'v', 'á', 'r', 'i', 'o', 's', 'd', 'e', 'p', 'u', 't', 'a', 'd', 'o', 's', ',', 'n', 'a', 'n', 'o', 'i', 't', 'e', 'd', 'e', 'q', 'u', 'i', 'n', 't', 'a', ',', 'c', 'r', 'i', 't', 'i', 'c', 'a', 'r', 'a', 'm', 'o', 'c', 'a', 's', 'o', 'n', 'a', 't', 'r', 'i', 'b', 'u', 'n', 'a', 'd', 'a', 'C', 'â', 'm', 'a', 'r', 'a', '.', '\"', 'P', 'o', 'd', 'e', 'r', 'i', 'a', 'a', 'n', 'u', 'n', 'c', 'i', 'a', 'r', 's', 'e', 'm', 'a', 'n', 'a', 'q', 'u', 'e', 'v', 'e', 'm', ',', 'n', 'o', 'r', 'e', 'c', 'e', 's', 's', 'o', '?', 'T', 'a', 'l', 'v', 'e', 'z', '.', 'A', 'c', 'a', 'b', 'o', 'u', 's', 'e', 'n', 'd', 'o', 'u', 's', 'a', 'd', 'o', 'n', 'a', 'v', 'o', 't', 'a', 'ç', 'ã', 'o', '.', 'D', 'e', 'u', 'm', 'a', 'r', 'g', 'e', 'm', 'p', 'a', 'r', 'a', 'o', 'p', 'e', 's', 's', 'o', 'a', 'l', 'f', 'a', 'l', 'a', 'r', '\"', ',', 'd', 'i', 's', 's', 'e', ',', 'o', 'm', 'i', 'n', 'i', 's', 't', 'r', 'o', ',', 'q', 'u', 'e', 'd', 'e', 's', 't', 'a', 'c', 'o', 'u', 'n', 'o', 'e', 'n', 't', 'a', 'n', 't', 'o', 'q', 'u', 'e', 'E', 'd', 'u', 'a', 'r', 'd', 'o', 'é', 'u', 'm', '\"', 'j', 'o', 'v', 'e', 'm', 'p', 'r', 'e', 'p', 'a', 'r', 'a', 'd', 'o', '\"', '.']\n"
     ]
    }
   ],
   "source": [
    "print('Caracteres de palavra no texto:')\n",
    "print(wordcharsRegex.findall(text))\n",
    "print('-'*80)\n",
    "print('Caracteres de não-palavra no texto:')\n",
    "nonwordcharsRegex.findall(text)\n",
    "print('-'*80)\n",
    "print('Caracteres de espaço no texto:')\n",
    "print(spacecharsRegex.findall(text))\n",
    "print('-'*80)\n",
    "print('Caracteres de não-espaço no texto:')\n",
    "print(nonspacecharsRegex.findall(text))"
   ]
  },
  {
   "cell_type": "markdown",
   "metadata": {},
   "source": [
    "# O caracter Coringa\n",
    "\n",
    "O caracter . (ou ponto) em uma expressão regular é chamando caracter coringa e corresponde a qualquer caracter, exceto nova linha."
   ]
  },
  {
   "cell_type": "code",
   "execution_count": 7,
   "metadata": {},
   "outputs": [
    {
     "name": "stdout",
     "output_type": "stream",
     "text": [
      "['cat', 'hat', 'sat', 'lat', 'mat']\n"
     ]
    }
   ],
   "source": [
    "atRegex = re.compile('.at')\n",
    "print(atRegex.findall('The cat in the hat sat on the flat mat'))"
   ]
  },
  {
   "cell_type": "markdown",
   "metadata": {},
   "source": [
    "# Correspondendo Tudo com um Ponto-asterisco"
   ]
  },
  {
   "cell_type": "code",
   "execution_count": 8,
   "metadata": {},
   "outputs": [
    {
     "name": "stdout",
     "output_type": "stream",
     "text": [
      "Myke\n",
      "Albuquerque Pinto de Oliveira\n"
     ]
    }
   ],
   "source": [
    "nameRegex = re.compile(r'Primeiro Nome: (.*) Sobrenome: (.*)')\n",
    "mo = nameRegex.search('Primeiro Nome: Myke Sobrenome: Albuquerque Pinto de Oliveira')\n",
    "print(mo.group(1))\n",
    "print(mo.group(2))"
   ]
  },
  {
   "cell_type": "markdown",
   "metadata": {},
   "source": [
    "# Corrêspondência Insensível à Caixa"
   ]
  },
  {
   "cell_type": "code",
   "execution_count": 9,
   "metadata": {},
   "outputs": [
    {
     "data": {
      "text/plain": [
       "'RoboCop'"
      ]
     },
     "execution_count": 9,
     "metadata": {},
     "output_type": "execute_result"
    }
   ],
   "source": [
    "robocopRegex = re.compile(r'robocop', re.I)\n",
    "robocopRegex.search('RoboCop é metade homem, metade máquina, todo policial.').group()"
   ]
  },
  {
   "cell_type": "code",
   "execution_count": 10,
   "metadata": {},
   "outputs": [
    {
     "data": {
      "text/plain": [
       "'ROBOCOP'"
      ]
     },
     "execution_count": 10,
     "metadata": {},
     "output_type": "execute_result"
    }
   ],
   "source": [
    "robocopRegex.search('ROBOCOP protege os inocentes.').group()"
   ]
  },
  {
   "cell_type": "code",
   "execution_count": 12,
   "metadata": {},
   "outputs": [
    {
     "data": {
      "text/plain": [
       "'robocop'"
      ]
     },
     "execution_count": 12,
     "metadata": {},
     "output_type": "execute_result"
    }
   ],
   "source": [
    "robocopRegex.search('Myke, por que esse notebook fala sobre o robocop tanto?').group()"
   ]
  },
  {
   "cell_type": "markdown",
   "metadata": {},
   "source": [
    "# Substituindo Strings com o método `sub()`"
   ]
  },
  {
   "cell_type": "code",
   "execution_count": 13,
   "metadata": {},
   "outputs": [
    {
     "data": {
      "text/plain": [
       "'CENSORED deu os documentos secretos ao CENSORED.'"
      ]
     },
     "execution_count": 13,
     "metadata": {},
     "output_type": "execute_result"
    }
   ],
   "source": [
    "namesRegex = re.compile(r'Agente \\w+')\n",
    "namesRegex.sub('CENSURADO', 'Agente Alice deu os documentos secretos ao Agente Bob.')"
   ]
  },
  {
   "cell_type": "code",
   "execution_count": 14,
   "metadata": {},
   "outputs": [
    {
     "data": {
      "text/plain": [
       "'A**** contou para a C**** que a E**** soube que o B**** era um agente duplo.'"
      ]
     },
     "execution_count": 14,
     "metadata": {},
     "output_type": "execute_result"
    }
   ],
   "source": [
    "agentNameRegex = re.compile(r'Agente (\\w)\\w*')\n",
    "agentNameRegex.sub(r'\\1****', 'Agente Alice contou para a Agente Carol que a Agente Eve soube que o Agente Bob era um agente duplo.')"
   ]
  },
  {
   "cell_type": "markdown",
   "metadata": {},
   "source": [
    "# Gerenciando Regexes Complexas"
   ]
  },
  {
   "cell_type": "code",
   "execution_count": 20,
   "metadata": {},
   "outputs": [
    {
     "ename": "error",
     "evalue": "multiple repeat at position 12",
     "output_type": "error",
     "traceback": [
      "\u001b[0;31m---------------------------------------------------------------------------\u001b[0m",
      "\u001b[0;31merror\u001b[0m                                     Traceback (most recent call last)",
      "\u001b[0;32m<ipython-input-20-71e3431800b6>\u001b[0m in \u001b[0;36m<module>\u001b[0;34m\u001b[0m\n\u001b[0;32m----> 1\u001b[0;31m \u001b[0mphoneRegex\u001b[0m \u001b[0;34m=\u001b[0m \u001b[0mre\u001b[0m\u001b[0;34m.\u001b[0m\u001b[0mcompile\u001b[0m\u001b[0;34m(\u001b[0m\u001b[0;34mr'(\\(\\d\\d\\))? ?\\d{4,5}-?\\d{4}'\u001b[0m\u001b[0;34m,\u001b[0m \u001b[0mre\u001b[0m\u001b[0;34m.\u001b[0m\u001b[0mVERBOSE\u001b[0m\u001b[0;34m)\u001b[0m\u001b[0;34m\u001b[0m\u001b[0;34m\u001b[0m\u001b[0m\n\u001b[0m",
      "\u001b[0;32m~/anaconda3/lib/python3.7/re.py\u001b[0m in \u001b[0;36mcompile\u001b[0;34m(pattern, flags)\u001b[0m\n\u001b[1;32m    232\u001b[0m \u001b[0;32mdef\u001b[0m \u001b[0mcompile\u001b[0m\u001b[0;34m(\u001b[0m\u001b[0mpattern\u001b[0m\u001b[0;34m,\u001b[0m \u001b[0mflags\u001b[0m\u001b[0;34m=\u001b[0m\u001b[0;36m0\u001b[0m\u001b[0;34m)\u001b[0m\u001b[0;34m:\u001b[0m\u001b[0;34m\u001b[0m\u001b[0;34m\u001b[0m\u001b[0m\n\u001b[1;32m    233\u001b[0m     \u001b[0;34m\"Compile a regular expression pattern, returning a Pattern object.\"\u001b[0m\u001b[0;34m\u001b[0m\u001b[0;34m\u001b[0m\u001b[0m\n\u001b[0;32m--> 234\u001b[0;31m     \u001b[0;32mreturn\u001b[0m \u001b[0m_compile\u001b[0m\u001b[0;34m(\u001b[0m\u001b[0mpattern\u001b[0m\u001b[0;34m,\u001b[0m \u001b[0mflags\u001b[0m\u001b[0;34m)\u001b[0m\u001b[0;34m\u001b[0m\u001b[0;34m\u001b[0m\u001b[0m\n\u001b[0m\u001b[1;32m    235\u001b[0m \u001b[0;34m\u001b[0m\u001b[0m\n\u001b[1;32m    236\u001b[0m \u001b[0;32mdef\u001b[0m \u001b[0mpurge\u001b[0m\u001b[0;34m(\u001b[0m\u001b[0;34m)\u001b[0m\u001b[0;34m:\u001b[0m\u001b[0;34m\u001b[0m\u001b[0;34m\u001b[0m\u001b[0m\n",
      "\u001b[0;32m~/anaconda3/lib/python3.7/re.py\u001b[0m in \u001b[0;36m_compile\u001b[0;34m(pattern, flags)\u001b[0m\n\u001b[1;32m    284\u001b[0m     \u001b[0;32mif\u001b[0m \u001b[0;32mnot\u001b[0m \u001b[0msre_compile\u001b[0m\u001b[0;34m.\u001b[0m\u001b[0misstring\u001b[0m\u001b[0;34m(\u001b[0m\u001b[0mpattern\u001b[0m\u001b[0;34m)\u001b[0m\u001b[0;34m:\u001b[0m\u001b[0;34m\u001b[0m\u001b[0;34m\u001b[0m\u001b[0m\n\u001b[1;32m    285\u001b[0m         \u001b[0;32mraise\u001b[0m \u001b[0mTypeError\u001b[0m\u001b[0;34m(\u001b[0m\u001b[0;34m\"first argument must be string or compiled pattern\"\u001b[0m\u001b[0;34m)\u001b[0m\u001b[0;34m\u001b[0m\u001b[0;34m\u001b[0m\u001b[0m\n\u001b[0;32m--> 286\u001b[0;31m     \u001b[0mp\u001b[0m \u001b[0;34m=\u001b[0m \u001b[0msre_compile\u001b[0m\u001b[0;34m.\u001b[0m\u001b[0mcompile\u001b[0m\u001b[0;34m(\u001b[0m\u001b[0mpattern\u001b[0m\u001b[0;34m,\u001b[0m \u001b[0mflags\u001b[0m\u001b[0;34m)\u001b[0m\u001b[0;34m\u001b[0m\u001b[0;34m\u001b[0m\u001b[0m\n\u001b[0m\u001b[1;32m    287\u001b[0m     \u001b[0;32mif\u001b[0m \u001b[0;32mnot\u001b[0m \u001b[0;34m(\u001b[0m\u001b[0mflags\u001b[0m \u001b[0;34m&\u001b[0m \u001b[0mDEBUG\u001b[0m\u001b[0;34m)\u001b[0m\u001b[0;34m:\u001b[0m\u001b[0;34m\u001b[0m\u001b[0;34m\u001b[0m\u001b[0m\n\u001b[1;32m    288\u001b[0m         \u001b[0;32mif\u001b[0m \u001b[0mlen\u001b[0m\u001b[0;34m(\u001b[0m\u001b[0m_cache\u001b[0m\u001b[0;34m)\u001b[0m \u001b[0;34m>=\u001b[0m \u001b[0m_MAXCACHE\u001b[0m\u001b[0;34m:\u001b[0m\u001b[0;34m\u001b[0m\u001b[0;34m\u001b[0m\u001b[0m\n",
      "\u001b[0;32m~/anaconda3/lib/python3.7/sre_compile.py\u001b[0m in \u001b[0;36mcompile\u001b[0;34m(p, flags)\u001b[0m\n\u001b[1;32m    762\u001b[0m     \u001b[0;32mif\u001b[0m \u001b[0misstring\u001b[0m\u001b[0;34m(\u001b[0m\u001b[0mp\u001b[0m\u001b[0;34m)\u001b[0m\u001b[0;34m:\u001b[0m\u001b[0;34m\u001b[0m\u001b[0;34m\u001b[0m\u001b[0m\n\u001b[1;32m    763\u001b[0m         \u001b[0mpattern\u001b[0m \u001b[0;34m=\u001b[0m \u001b[0mp\u001b[0m\u001b[0;34m\u001b[0m\u001b[0;34m\u001b[0m\u001b[0m\n\u001b[0;32m--> 764\u001b[0;31m         \u001b[0mp\u001b[0m \u001b[0;34m=\u001b[0m \u001b[0msre_parse\u001b[0m\u001b[0;34m.\u001b[0m\u001b[0mparse\u001b[0m\u001b[0;34m(\u001b[0m\u001b[0mp\u001b[0m\u001b[0;34m,\u001b[0m \u001b[0mflags\u001b[0m\u001b[0;34m)\u001b[0m\u001b[0;34m\u001b[0m\u001b[0;34m\u001b[0m\u001b[0m\n\u001b[0m\u001b[1;32m    765\u001b[0m     \u001b[0;32melse\u001b[0m\u001b[0;34m:\u001b[0m\u001b[0;34m\u001b[0m\u001b[0;34m\u001b[0m\u001b[0m\n\u001b[1;32m    766\u001b[0m         \u001b[0mpattern\u001b[0m \u001b[0;34m=\u001b[0m \u001b[0;32mNone\u001b[0m\u001b[0;34m\u001b[0m\u001b[0;34m\u001b[0m\u001b[0m\n",
      "\u001b[0;32m~/anaconda3/lib/python3.7/sre_parse.py\u001b[0m in \u001b[0;36mparse\u001b[0;34m(str, flags, pattern)\u001b[0m\n\u001b[1;32m    928\u001b[0m \u001b[0;34m\u001b[0m\u001b[0m\n\u001b[1;32m    929\u001b[0m     \u001b[0;32mtry\u001b[0m\u001b[0;34m:\u001b[0m\u001b[0;34m\u001b[0m\u001b[0;34m\u001b[0m\u001b[0m\n\u001b[0;32m--> 930\u001b[0;31m         \u001b[0mp\u001b[0m \u001b[0;34m=\u001b[0m \u001b[0m_parse_sub\u001b[0m\u001b[0;34m(\u001b[0m\u001b[0msource\u001b[0m\u001b[0;34m,\u001b[0m \u001b[0mpattern\u001b[0m\u001b[0;34m,\u001b[0m \u001b[0mflags\u001b[0m \u001b[0;34m&\u001b[0m \u001b[0mSRE_FLAG_VERBOSE\u001b[0m\u001b[0;34m,\u001b[0m \u001b[0;36m0\u001b[0m\u001b[0;34m)\u001b[0m\u001b[0;34m\u001b[0m\u001b[0;34m\u001b[0m\u001b[0m\n\u001b[0m\u001b[1;32m    931\u001b[0m     \u001b[0;32mexcept\u001b[0m \u001b[0mVerbose\u001b[0m\u001b[0;34m:\u001b[0m\u001b[0;34m\u001b[0m\u001b[0;34m\u001b[0m\u001b[0m\n\u001b[1;32m    932\u001b[0m         \u001b[0;31m# the VERBOSE flag was switched on inside the pattern.  to be\u001b[0m\u001b[0;34m\u001b[0m\u001b[0;34m\u001b[0m\u001b[0;34m\u001b[0m\u001b[0m\n",
      "\u001b[0;32m~/anaconda3/lib/python3.7/sre_parse.py\u001b[0m in \u001b[0;36m_parse_sub\u001b[0;34m(source, state, verbose, nested)\u001b[0m\n\u001b[1;32m    424\u001b[0m     \u001b[0;32mwhile\u001b[0m \u001b[0;32mTrue\u001b[0m\u001b[0;34m:\u001b[0m\u001b[0;34m\u001b[0m\u001b[0;34m\u001b[0m\u001b[0m\n\u001b[1;32m    425\u001b[0m         itemsappend(_parse(source, state, verbose, nested + 1,\n\u001b[0;32m--> 426\u001b[0;31m                            not nested and not items))\n\u001b[0m\u001b[1;32m    427\u001b[0m         \u001b[0;32mif\u001b[0m \u001b[0;32mnot\u001b[0m \u001b[0msourcematch\u001b[0m\u001b[0;34m(\u001b[0m\u001b[0;34m\"|\"\u001b[0m\u001b[0;34m)\u001b[0m\u001b[0;34m:\u001b[0m\u001b[0;34m\u001b[0m\u001b[0;34m\u001b[0m\u001b[0m\n\u001b[1;32m    428\u001b[0m             \u001b[0;32mbreak\u001b[0m\u001b[0;34m\u001b[0m\u001b[0;34m\u001b[0m\u001b[0m\n",
      "\u001b[0;32m~/anaconda3/lib/python3.7/sre_parse.py\u001b[0m in \u001b[0;36m_parse\u001b[0;34m(source, state, verbose, nested, first)\u001b[0m\n\u001b[1;32m    652\u001b[0m             \u001b[0;32mif\u001b[0m \u001b[0mitem\u001b[0m\u001b[0;34m[\u001b[0m\u001b[0;36m0\u001b[0m\u001b[0;34m]\u001b[0m\u001b[0;34m[\u001b[0m\u001b[0;36m0\u001b[0m\u001b[0;34m]\u001b[0m \u001b[0;32min\u001b[0m \u001b[0m_REPEATCODES\u001b[0m\u001b[0;34m:\u001b[0m\u001b[0;34m\u001b[0m\u001b[0;34m\u001b[0m\u001b[0m\n\u001b[1;32m    653\u001b[0m                 raise source.error(\"multiple repeat\",\n\u001b[0;32m--> 654\u001b[0;31m                                    source.tell() - here + len(this))\n\u001b[0m\u001b[1;32m    655\u001b[0m             \u001b[0;32mif\u001b[0m \u001b[0mitem\u001b[0m\u001b[0;34m[\u001b[0m\u001b[0;36m0\u001b[0m\u001b[0;34m]\u001b[0m\u001b[0;34m[\u001b[0m\u001b[0;36m0\u001b[0m\u001b[0;34m]\u001b[0m \u001b[0;32mis\u001b[0m \u001b[0mSUBPATTERN\u001b[0m\u001b[0;34m:\u001b[0m\u001b[0;34m\u001b[0m\u001b[0;34m\u001b[0m\u001b[0m\n\u001b[1;32m    656\u001b[0m                 \u001b[0mgroup\u001b[0m\u001b[0;34m,\u001b[0m \u001b[0madd_flags\u001b[0m\u001b[0;34m,\u001b[0m \u001b[0mdel_flags\u001b[0m\u001b[0;34m,\u001b[0m \u001b[0mp\u001b[0m \u001b[0;34m=\u001b[0m \u001b[0mitem\u001b[0m\u001b[0;34m[\u001b[0m\u001b[0;36m0\u001b[0m\u001b[0;34m]\u001b[0m\u001b[0;34m[\u001b[0m\u001b[0;36m1\u001b[0m\u001b[0;34m]\u001b[0m\u001b[0;34m\u001b[0m\u001b[0;34m\u001b[0m\u001b[0m\n",
      "\u001b[0;31merror\u001b[0m: multiple repeat at position 12"
     ]
    }
   ],
   "source": [
    "phoneRegex = re.compile(r'(\\(\\d\\d\\))? ?\\d{4,5}-?\\d{4}', re.VERBOSE)"
   ]
  }
 ],
 "metadata": {
  "kernelspec": {
   "display_name": "Python 3",
   "language": "python",
   "name": "python3"
  },
  "language_info": {
   "codemirror_mode": {
    "name": "ipython",
    "version": 3
   },
   "file_extension": ".py",
   "mimetype": "text/x-python",
   "name": "python",
   "nbconvert_exporter": "python",
   "pygments_lexer": "ipython3",
   "version": "3.7.3"
  }
 },
 "nbformat": 4,
 "nbformat_minor": 2
}
