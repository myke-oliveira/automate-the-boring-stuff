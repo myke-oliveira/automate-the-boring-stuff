{
 "cells": [
  {
   "cell_type": "markdown",
   "metadata": {},
   "source": [
    "# Criando Objetos Regex\n",
    "\n",
    "Todas as funções _regex_ em Python estão no módulo `re`. Entre os seguintes código para importar este módulo"
   ]
  },
  {
   "cell_type": "code",
   "execution_count": 13,
   "metadata": {},
   "outputs": [],
   "source": [
    "import re"
   ]
  },
  {
   "cell_type": "markdown",
   "metadata": {},
   "source": [
    "Passar um valor de string representando uma expressão regular para `re.compile()` retorna um objeto padrão de _regex_ (ou simplismente, um objeto _regex_)."
   ]
  },
  {
   "cell_type": "code",
   "execution_count": 14,
   "metadata": {},
   "outputs": [],
   "source": [
    "phoneNumRegex = re.compile(r'\\d\\d \\d\\d\\d\\d-\\d\\d\\d\\d')"
   ]
  },
  {
   "cell_type": "markdown",
   "metadata": {},
   "source": [
    "Desde que expressões regulares frequentemente usam contra-barra, é muito conveniente passar uma string bruta para a função `re.compile()` ao invés de escrever contra-barras extras."
   ]
  },
  {
   "cell_type": "markdown",
   "metadata": {},
   "source": [
    "# Combinando Objetos Regex"
   ]
  },
  {
   "cell_type": "code",
   "execution_count": 15,
   "metadata": {},
   "outputs": [
    {
     "name": "stdout",
     "output_type": "stream",
     "text": [
      "Número de telefone encontrado: 13 8804-7676\n"
     ]
    }
   ],
   "source": [
    "mo = phoneNumRegex.search('Meu número de telefone é 13 8804-7676.')\n",
    "print(f'Número de telefone encontrado: {mo.group()}')"
   ]
  },
  {
   "cell_type": "markdown",
   "metadata": {},
   "source": [
    "# Agrupamento com Parenteses\n",
    "\n",
    "Adicionando parentes na _regex_ criará grupos. Então vocPe pode usar o método `group()` do objeto _macth_ para pegar os textos compatives com apenas um grupo."
   ]
  },
  {
   "cell_type": "code",
   "execution_count": 18,
   "metadata": {},
   "outputs": [
    {
     "name": "stdout",
     "output_type": "stream",
     "text": [
      "13\n",
      "8804-7676\n",
      "13 8804-7676\n",
      "13 8804-7676\n"
     ]
    }
   ],
   "source": [
    "phoneNumRegex = re.compile(r'(\\d\\d) (\\d\\d\\d\\d-\\d\\d\\d\\d)')\n",
    "mo = phoneNumRegex.search('Meu número de telefone é 13 8804-7676.')\n",
    "print(mo.group(1))\n",
    "print(mo.group(2))\n",
    "print(mo.group(0))\n",
    "print(mo.group())"
   ]
  },
  {
   "cell_type": "markdown",
   "metadata": {},
   "source": [
    "Se você quiser recuperar todos os grupos de uma vez, use o método `groups()` - note a forma plural para o nome."
   ]
  },
  {
   "cell_type": "code",
   "execution_count": 19,
   "metadata": {},
   "outputs": [
    {
     "data": {
      "text/plain": [
       "('13', '8804-7676')"
      ]
     },
     "execution_count": 19,
     "metadata": {},
     "output_type": "execute_result"
    }
   ],
   "source": [
    "mo.groups()"
   ]
  },
  {
   "cell_type": "code",
   "execution_count": 20,
   "metadata": {},
   "outputs": [
    {
     "name": "stdout",
     "output_type": "stream",
     "text": [
      "13\n",
      "8804-7676\n"
     ]
    }
   ],
   "source": [
    "codigoArea, numeroPrincipal = mo.groups()\n",
    "print(codigoArea)\n",
    "print(numeroPrincipal)"
   ]
  },
  {
   "cell_type": "markdown",
   "metadata": {},
   "source": [
    "Parenteses tem um significado especial em expressões regulares, mas o que você faz se você precisa encontrar a correspondência de um parenteses em seu texto? Por exemplo, pode ser que os telefones que você está tentando encontrar tenham o código de área entre parenteses. Nesse caso vocPe pode escabar o ( e ) com uma contra-barra."
   ]
  },
  {
   "cell_type": "code",
   "execution_count": 21,
   "metadata": {},
   "outputs": [
    {
     "name": "stdout",
     "output_type": "stream",
     "text": [
      "13\n",
      "8804-7676\n"
     ]
    }
   ],
   "source": [
    "phoneNumRegex = re.compile(r'\\((\\d\\d)\\) (\\d\\d\\d\\d-\\d\\d\\d\\d)')\n",
    "mo = phoneNumRegex.search('Meu número de telefone é (13) 8804-7676.')\n",
    "print(mo.group(1))\n",
    "print(mo.group(2))"
   ]
  },
  {
   "cell_type": "markdown",
   "metadata": {},
   "source": [
    "# Correspondendo multiplos grupos com o Pipe\n",
    "\n",
    "O caracter | é chamado de _pipe_. Voce pode usa-lo em qualquer lugar que você quer encontrar a correspondência de uma ou mais expressões. Por exemplo, a expressão regular r'Batman|Tinha Frey' correspoderá a ambos 'Batman' ou 'Tina Frey'."
   ]
  },
  {
   "cell_type": "code",
   "execution_count": 22,
   "metadata": {},
   "outputs": [
    {
     "data": {
      "text/plain": [
       "'Batman'"
      ]
     },
     "execution_count": 22,
     "metadata": {},
     "output_type": "execute_result"
    }
   ],
   "source": [
    "heroRegex = re.compile(r'Batman|Tina Frey')\n",
    "mo1 = heroRegex.search('Batman e Tina Frey')\n",
    "mo1.group()"
   ]
  },
  {
   "cell_type": "code",
   "execution_count": 23,
   "metadata": {},
   "outputs": [
    {
     "data": {
      "text/plain": [
       "'Tina Frey'"
      ]
     },
     "execution_count": 23,
     "metadata": {},
     "output_type": "execute_result"
    }
   ],
   "source": [
    "mo2 = heroRegex.search('Tina Frey e Batman')\n",
    "mo2.group()"
   ]
  },
  {
   "cell_type": "markdown",
   "metadata": {},
   "source": [
    "## Nota\n",
    "\n",
    "Você pode encontrar todas as correspodências com o método `findall()`"
   ]
  },
  {
   "cell_type": "code",
   "execution_count": 24,
   "metadata": {},
   "outputs": [
    {
     "data": {
      "text/plain": [
       "['Batman', 'Tina Frey']"
      ]
     },
     "execution_count": 24,
     "metadata": {},
     "output_type": "execute_result"
    }
   ],
   "source": [
    "heroRegex.findall('Batman e Tina Frey')"
   ]
  }
 ],
 "metadata": {
  "kernelspec": {
   "display_name": "Python 3",
   "language": "python",
   "name": "python3"
  },
  "language_info": {
   "codemirror_mode": {
    "name": "ipython",
    "version": 3
   },
   "file_extension": ".py",
   "mimetype": "text/x-python",
   "name": "python",
   "nbconvert_exporter": "python",
   "pygments_lexer": "ipython3",
   "version": "3.7.3"
  }
 },
 "nbformat": 4,
 "nbformat_minor": 2
}
