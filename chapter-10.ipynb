{
 "cells": [
  {
   "cell_type": "markdown",
   "metadata": {},
   "source": [
    "# DEBUGAR\n",
    "\n",
    "Agora que você sabe o suficiente para escrever programas mas complicads você pode começar a encontrar erros não tão simples neles. Este capitulo cobre algumas ferramentas e técnicas para encontrar a causa-raiz de alguns erros em seus programas para ajudar a corrigilos mais rápido e com menos esforço."
   ]
  },
  {
   "cell_type": "code",
   "execution_count": 4,
   "metadata": {},
   "outputs": [
    {
     "name": "stdout",
     "output_type": "stream",
     "text": [
      "Entre com o número dez:2\n"
     ]
    },
    {
     "ename": "Exception",
     "evalue": "Você deveria ter digitado o número 10.",
     "output_type": "error",
     "traceback": [
      "\u001b[0;31m---------------------------------------------------------------------------\u001b[0m",
      "\u001b[0;31mException\u001b[0m                                 Traceback (most recent call last)",
      "\u001b[0;32m<ipython-input-4-99499f845002>\u001b[0m in \u001b[0;36m<module>\u001b[0;34m\u001b[0m\n\u001b[1;32m      1\u001b[0m \u001b[0mn\u001b[0m \u001b[0;34m=\u001b[0m \u001b[0mint\u001b[0m\u001b[0;34m(\u001b[0m\u001b[0minput\u001b[0m\u001b[0;34m(\u001b[0m\u001b[0;34m'Entre com o número dez:'\u001b[0m\u001b[0;34m)\u001b[0m\u001b[0;34m)\u001b[0m\u001b[0;34m\u001b[0m\u001b[0;34m\u001b[0m\u001b[0m\n\u001b[1;32m      2\u001b[0m \u001b[0;32mif\u001b[0m \u001b[0mn\u001b[0m \u001b[0;34m!=\u001b[0m \u001b[0;36m10\u001b[0m\u001b[0;34m:\u001b[0m\u001b[0;34m\u001b[0m\u001b[0;34m\u001b[0m\u001b[0m\n\u001b[0;32m----> 3\u001b[0;31m     \u001b[0;32mraise\u001b[0m \u001b[0mException\u001b[0m\u001b[0;34m(\u001b[0m\u001b[0;34m'Você deveria ter digitado o número 10.'\u001b[0m\u001b[0;34m)\u001b[0m\u001b[0;34m\u001b[0m\u001b[0;34m\u001b[0m\u001b[0m\n\u001b[0m",
      "\u001b[0;31mException\u001b[0m: Você deveria ter digitado o número 10."
     ]
    }
   ],
   "source": [
    "n = int(input('Entre com o número dez:'))\n",
    "if n != 10:\n",
    "    raise Exception('Você deveria ter digitado o número 10.')"
   ]
  },
  {
   "cell_type": "markdown",
   "metadata": {},
   "source": [
    "## Log\n",
    "\n",
    "Se você já colocou um `print()` em seu código para saber algum valor de variaveis enquanto os seus programas estavam rodando, você usou uma forma forma de _loggin_ para depurar o seu código. _Logging_ é uma grande forma de enterder o que está acontecendo em seu código e em que ordem está acontecendo. O módulo `logging` do Python deixa fácil criar um registro de mensagens pessoas que você escreve. Estas mensagems de log descreverão quando a execução do programa atingir a chamada função _logging_ e listar as variáveis que você especificou no momento exato. Por outro lado, a falta de uma mensagem de _log_ indica que uma parte do código foi pulada e nunca executada.\n",
    "\n",
    "### Usando o módulo `logging`\n",
    "\n",
    "Para habilitar o módulo `logging` para mostrar mensagens de _log_ na sua tela, copie as seguintes linhas de código no topo do seu programa (mas abaixo da linha `#! python`):"
   ]
  },
  {
   "cell_type": "code",
   "execution_count": 3,
   "metadata": {},
   "outputs": [],
   "source": [
    "import logging\n",
    "logging.basicConfig(level=logging.DEBUG, format = ' %(asctime)s - %(levelname)s - %(message)s')"
   ]
  },
  {
   "cell_type": "markdown",
   "metadata": {},
   "source": [
    "Você não precisa se preocupar muito sobre como isso funciona, mas basicamente quando Python loga um evento, ele cria um objeto `LogRecord` que mantem a informação deste evento. A função `basicConfig()` do  módulo `logging` te permite especificar quais detalhes sobre o objeto `LogRecord` você quer ver e como você quer que esses detalhes sejam mostrados.\n",
    "\n",
    "Digamos que você escreveu uma função para calcular o fatorial de um número. Em matemática, o fatorial de quatro é 1 &times; 2 &times; 3 &times; 4 ou 24. O fatorial de 7 é 1 &times; 2 &times; 3 &times; 4 &times; 5 &times; 6 &times; 7, ou 5040. Abra um novo arquivo e entre o seguinte código. Ele tem um erro, mas você vai obter várias mensagems de log para te ajudar a descobrir o que está acontecendo de errado. Salve o programa como _factorialLog.py_."
   ]
  },
  {
   "cell_type": "code",
   "execution_count": 6,
   "metadata": {},
   "outputs": [
    {
     "name": "stderr",
     "output_type": "stream",
     "text": [
      " 2019-08-20 10:36:13,871 - DEBUG - Start of Program\n",
      " 2019-08-20 10:36:13,873 - DEBUG - Start of factorial(5%)\n",
      " 2019-08-20 10:36:13,875 - DEBUG - i is 0, total is 0\n",
      " 2019-08-20 10:36:13,876 - DEBUG - i is 1, total is 0\n",
      " 2019-08-20 10:36:13,877 - DEBUG - i is 2, total is 0\n",
      " 2019-08-20 10:36:13,878 - DEBUG - i is 3, total is 0\n",
      " 2019-08-20 10:36:13,880 - DEBUG - i is 4, total is 0\n",
      " 2019-08-20 10:36:13,881 - DEBUG - i is 5, total is 0\n",
      " 2019-08-20 10:36:13,882 - DEBUG - End of factorial(5%)\n",
      " 2019-08-20 10:36:13,883 - DEBUG - End of program\n"
     ]
    },
    {
     "name": "stdout",
     "output_type": "stream",
     "text": [
      "0\n"
     ]
    }
   ],
   "source": [
    "import logging\n",
    "logging.basicConfig(level=logging.DEBUG, format = ' %(asctime)s - %(levelname)s - %(message)s')\n",
    "logging.debug('Start of Program')\n",
    "\n",
    "def factorial(n):\n",
    "    logging.debug('Start of factorial(%s%%)' % (n))\n",
    "    total = 1\n",
    "    for i in range(n + 1):\n",
    "        total *= i\n",
    "        logging.debug('i is ' + str(i) + ', total is ' + str(total))\n",
    "    logging.debug('End of factorial(%s%%)' % (n))\n",
    "    return total\n",
    "\n",
    "print(factorial(5))\n",
    "logging.debug('End of program')"
   ]
  },
  {
   "cell_type": "markdown",
   "metadata": {},
   "source": [
    "A função `factorial()` está retornando 0 como o fatorial de 5, o que não está correto. O laço for deveria estar multiplicando o valor em _total_ pelos números de 1 a 5. Mas as mensagens de log mostram que a variável i está começando com 0 ao invés de 1. Desde que zero vezes qualquer número é zero, o resto das iterações também tem valores errados para total. mensagens de _logging_ provêem pistas que podem te ajudar quando as coisas começam a dar errado.\n",
    "\n",
    "Mudando a linha `for i in range(n + 1):` para `for i in range(1, n + 1):` e rodando o programa de novo, a Saida será a seguinte:"
   ]
  },
  {
   "cell_type": "code",
   "execution_count": 7,
   "metadata": {},
   "outputs": [
    {
     "name": "stderr",
     "output_type": "stream",
     "text": [
      " 2019-08-20 14:59:03,549 - DEBUG - Start of Program\n",
      " 2019-08-20 14:59:03,550 - DEBUG - Start of factorial(5%)\n",
      " 2019-08-20 14:59:03,552 - DEBUG - i is 1, total is 1\n",
      " 2019-08-20 14:59:03,552 - DEBUG - i is 2, total is 2\n",
      " 2019-08-20 14:59:03,553 - DEBUG - i is 3, total is 6\n",
      " 2019-08-20 14:59:03,554 - DEBUG - i is 4, total is 24\n",
      " 2019-08-20 14:59:03,555 - DEBUG - i is 5, total is 120\n",
      " 2019-08-20 14:59:03,556 - DEBUG - End of factorial(5%)\n",
      " 2019-08-20 14:59:03,557 - DEBUG - End of program\n"
     ]
    },
    {
     "name": "stdout",
     "output_type": "stream",
     "text": [
      "120\n"
     ]
    }
   ],
   "source": [
    "import logging\n",
    "logging.basicConfig(level=logging.DEBUG, format = ' %(asctime)s - %(levelname)s - %(message)s')\n",
    "logging.debug('Start of Program')\n",
    "\n",
    "def factorial(n):\n",
    "    logging.debug('Start of factorial(%s%%)' % (n))\n",
    "    total = 1\n",
    "    for i in range(1, n + 1):\n",
    "        total *= i\n",
    "        logging.debug('i is ' + str(i) + ', total is ' + str(total))\n",
    "    logging.debug('End of factorial(%s%%)' % (n))\n",
    "    return total\n",
    "\n",
    "print(factorial(5))\n",
    "logging.debug('End of program')"
   ]
  },
  {
   "cell_type": "markdown",
   "metadata": {},
   "source": [
    "## Niveis de _Logging_\n",
    "\n",
    "Niveis de _Logging_ fornecem um meio de caracterizar usas mensagems de log pela importância. Há cinco níveis de _logging_. Mensagens podem ser loggadas em cada nível usando uma função diferente."
   ]
  },
  {
   "cell_type": "code",
   "execution_count": 8,
   "metadata": {},
   "outputs": [
    {
     "name": "stderr",
     "output_type": "stream",
     "text": [
      " 2019-08-20 15:21:20,084 - DEBUG - Some debuggins details.\n",
      " 2019-08-20 15:21:20,085 - INFO - The logging module is working.\n",
      " 2019-08-20 15:21:20,086 - WARNING - An error messagem is about to be logged.\n",
      " 2019-08-20 15:21:20,087 - ERROR - An error has occorred.\n",
      " 2019-08-20 15:21:20,088 - CRITICAL - The program is unable to recover!\n"
     ]
    }
   ],
   "source": [
    "import logging\n",
    "logging.basicConfig(level=logging.DEBUG, format = '%(asctime)s - %(levelname)s - %(message)s')\n",
    "\n",
    "logging.debug('Some debuggins details.')\n",
    "logging.info('The logging module is working.')\n",
    "logging.warning('An error messagem is about to be logged.')\n",
    "logging.error('An error has occorred.')\n",
    "logging.critical('The program is unable to recover!')"
   ]
  },
  {
   "cell_type": "markdown",
   "metadata": {},
   "source": [
    "O benefício dos níveis é que você pode mudar qual prioridade das mensagens de _logging_ você quer ver. Passando `logging.DEBUG` para o argumento `level` da função `basicConfig()` mostrará as mensagens de todos os níveis (DEBUG sendo o nível mais baixo). Mas após o desenvolvimento de seu programa, você pode estar interessado apenas em erros. Neste caso, você pode setar o nível de `basicConfig()` para `logging.ERROR`. Isto mostrará somente mensagens ERROR e CRITICAL e pulará DEBUG, INFO e WARNING."
   ]
  }
 ],
 "metadata": {
  "kernelspec": {
   "display_name": "Python 3",
   "language": "python",
   "name": "python3"
  },
  "language_info": {
   "codemirror_mode": {
    "name": "ipython",
    "version": 3
   },
   "file_extension": ".py",
   "mimetype": "text/x-python",
   "name": "python",
   "nbconvert_exporter": "python",
   "pygments_lexer": "ipython3",
   "version": "3.7.3"
  }
 },
 "nbformat": 4,
 "nbformat_minor": 2
}
